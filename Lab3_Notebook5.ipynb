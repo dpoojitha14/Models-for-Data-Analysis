{
 "cells": [
  {
   "cell_type": "markdown",
   "metadata": {},
   "source": [
    "Activity 2: K-nn classification with credit data"
   ]
  },
  {
   "cell_type": "markdown",
   "metadata": {},
   "source": [
    "Referred from Chapter 3 of Doing Data Science text book."
   ]
  },
  {
   "cell_type": "code",
   "execution_count": 37,
   "metadata": {
    "collapsed": false
   },
   "outputs": [
    {
     "name": "stderr",
     "output_type": "stream",
     "text": [
      "Updating HTML index of packages in '.Library'\n",
      "Making 'packages.html' ... done\n"
     ]
    }
   ],
   "source": [
    "install.packages(\"class\")\n",
    "install.packages(\"ggplot2\")"
   ]
  },
  {
   "cell_type": "code",
   "execution_count": 14,
   "metadata": {
    "collapsed": false
   },
   "outputs": [],
   "source": [
    "library(\"class\")\n",
    "library(\"ggplot2\")"
   ]
  },
  {
   "cell_type": "code",
   "execution_count": 2,
   "metadata": {
    "collapsed": false
   },
   "outputs": [
    {
     "data": {
      "text/html": [
       "<table>\n",
       "<thead><tr><th scope=col>X.</th><th scope=col>Age</th><th scope=col>Sex</th><th scope=col>Job</th><th scope=col>Housing</th><th scope=col>Saving.accounts</th><th scope=col>Checking.account</th><th scope=col>Credit.amount</th><th scope=col>Duration</th><th scope=col>Purpose</th><th scope=col>Credit.Risks</th></tr></thead>\n",
       "<tbody>\n",
       "\t<tr><td>0                  </td><td>67                 </td><td>male               </td><td>2                  </td><td>own                </td><td>NA                 </td><td>little             </td><td>1169               </td><td> 6                 </td><td>radio/TV           </td><td>1                  </td></tr>\n",
       "\t<tr><td>1                  </td><td>22                 </td><td>female             </td><td>2                  </td><td>own                </td><td>little             </td><td>moderate           </td><td>5951               </td><td>48                 </td><td>radio/TV           </td><td>2                  </td></tr>\n",
       "\t<tr><td>2                  </td><td>49                 </td><td>male               </td><td>1                  </td><td>own                </td><td>little             </td><td>NA                 </td><td>2096               </td><td>12                 </td><td>education          </td><td>1                  </td></tr>\n",
       "\t<tr><td>3                  </td><td>45                 </td><td>male               </td><td>2                  </td><td>free               </td><td>little             </td><td>little             </td><td>7882               </td><td>42                 </td><td>furniture/equipment</td><td>1                  </td></tr>\n",
       "\t<tr><td>4                  </td><td>53                 </td><td>male               </td><td>2                  </td><td>free               </td><td>little             </td><td>little             </td><td>4870               </td><td>24                 </td><td>car                </td><td>2                  </td></tr>\n",
       "\t<tr><td>5                  </td><td>35                 </td><td>male               </td><td>1                  </td><td>free               </td><td>NA                 </td><td>NA                 </td><td>9055               </td><td>36                 </td><td>education          </td><td>1                  </td></tr>\n",
       "</tbody>\n",
       "</table>\n"
      ],
      "text/latex": [
       "\\begin{tabular}{r|lllllllllll}\n",
       " X. & Age & Sex & Job & Housing & Saving.accounts & Checking.account & Credit.amount & Duration & Purpose & Credit.Risks\\\\\n",
       "\\hline\n",
       "\t 0                   & 67                  & male                & 2                   & own                 & NA                  & little              & 1169                &  6                  & radio/TV            & 1                  \\\\\n",
       "\t 1                   & 22                  & female              & 2                   & own                 & little              & moderate            & 5951                & 48                  & radio/TV            & 2                  \\\\\n",
       "\t 2                   & 49                  & male                & 1                   & own                 & little              & NA                  & 2096                & 12                  & education           & 1                  \\\\\n",
       "\t 3                   & 45                  & male                & 2                   & free                & little              & little              & 7882                & 42                  & furniture/equipment & 1                  \\\\\n",
       "\t 4                   & 53                  & male                & 2                   & free                & little              & little              & 4870                & 24                  & car                 & 2                  \\\\\n",
       "\t 5                   & 35                  & male                & 1                   & free                & NA                  & NA                  & 9055                & 36                  & education           & 1                  \\\\\n",
       "\\end{tabular}\n"
      ],
      "text/markdown": [
       "\n",
       "X. | Age | Sex | Job | Housing | Saving.accounts | Checking.account | Credit.amount | Duration | Purpose | Credit.Risks | \n",
       "|---|---|---|---|---|---|\n",
       "| 0                   | 67                  | male                | 2                   | own                 | NA                  | little              | 1169                |  6                  | radio/TV            | 1                   | \n",
       "| 1                   | 22                  | female              | 2                   | own                 | little              | moderate            | 5951                | 48                  | radio/TV            | 2                   | \n",
       "| 2                   | 49                  | male                | 1                   | own                 | little              | NA                  | 2096                | 12                  | education           | 1                   | \n",
       "| 3                   | 45                  | male                | 2                   | free                | little              | little              | 7882                | 42                  | furniture/equipment | 1                   | \n",
       "| 4                   | 53                  | male                | 2                   | free                | little              | little              | 4870                | 24                  | car                 | 2                   | \n",
       "| 5                   | 35                  | male                | 1                   | free                | NA                  | NA                  | 9055                | 36                  | education           | 1                   | \n",
       "\n",
       "\n"
      ],
      "text/plain": [
       "  X. Age Sex    Job Housing Saving.accounts Checking.account Credit.amount\n",
       "1 0  67  male   2   own     NA              little           1169         \n",
       "2 1  22  female 2   own     little          moderate         5951         \n",
       "3 2  49  male   1   own     little          NA               2096         \n",
       "4 3  45  male   2   free    little          little           7882         \n",
       "5 4  53  male   2   free    little          little           4870         \n",
       "6 5  35  male   1   free    NA              NA               9055         \n",
       "  Duration Purpose             Credit.Risks\n",
       "1  6       radio/TV            1           \n",
       "2 48       radio/TV            2           \n",
       "3 12       education           1           \n",
       "4 42       furniture/equipment 1           \n",
       "5 24       car                 2           \n",
       "6 36       education           1           "
      ]
     },
     "metadata": {},
     "output_type": "display_data"
    },
    {
     "data": {
      "text/html": [
       "<ol class=list-inline>\n",
       "\t<li>1000</li>\n",
       "\t<li>11</li>\n",
       "</ol>\n"
      ],
      "text/latex": [
       "\\begin{enumerate*}\n",
       "\\item 1000\n",
       "\\item 11\n",
       "\\end{enumerate*}\n"
      ],
      "text/markdown": [
       "1. 1000\n",
       "2. 11\n",
       "\n",
       "\n"
      ],
      "text/plain": [
       "[1] 1000   11"
      ]
     },
     "metadata": {},
     "output_type": "display_data"
    }
   ],
   "source": [
    "#Reading data from german_credit_data1.csv\n",
    "data = read.csv(\"german_credit_data1.csv\")\n",
    "head(data)\n",
    "dim(data)"
   ]
  },
  {
   "cell_type": "code",
   "execution_count": 3,
   "metadata": {
    "collapsed": false
   },
   "outputs": [
    {
     "data": {
      "text/html": [
       "<ol class=list-inline>\n",
       "\t<li>522</li>\n",
       "\t<li>11</li>\n",
       "</ol>\n"
      ],
      "text/latex": [
       "\\begin{enumerate*}\n",
       "\\item 522\n",
       "\\item 11\n",
       "\\end{enumerate*}\n"
      ],
      "text/markdown": [
       "1. 522\n",
       "2. 11\n",
       "\n",
       "\n"
      ],
      "text/plain": [
       "[1] 522  11"
      ]
     },
     "metadata": {},
     "output_type": "display_data"
    }
   ],
   "source": [
    "#Selecting only those rows with complete data in columns 2,6,7\n",
    "data1 = data[complete.cases(data[,c(2,6,7)]),] \n",
    "dim(data1)"
   ]
  },
  {
   "cell_type": "code",
   "execution_count": 4,
   "metadata": {
    "collapsed": false
   },
   "outputs": [
    {
     "data": {
      "text/html": [
       "<table>\n",
       "<thead><tr><th></th><th scope=col>X.</th><th scope=col>Age</th><th scope=col>Sex</th><th scope=col>Job</th><th scope=col>Housing</th><th scope=col>Saving.accounts</th><th scope=col>Checking.account</th><th scope=col>Credit.amount</th><th scope=col>Duration</th><th scope=col>Purpose</th><th scope=col>Credit.Risks</th></tr></thead>\n",
       "<tbody>\n",
       "\t<tr><th scope=row>2</th><td> 1                 </td><td>22                 </td><td>female             </td><td>2                  </td><td>own                </td><td>little             </td><td>moderate           </td><td>5951               </td><td>48                 </td><td>radio/TV           </td><td>2                  </td></tr>\n",
       "\t<tr><th scope=row>4</th><td> 3                 </td><td>45                 </td><td>male               </td><td>2                  </td><td>free               </td><td>little             </td><td>little             </td><td>7882               </td><td>42                 </td><td>furniture/equipment</td><td>1                  </td></tr>\n",
       "\t<tr><th scope=row>5</th><td> 4                 </td><td>53                 </td><td>male               </td><td>2                  </td><td>free               </td><td>little             </td><td>little             </td><td>4870               </td><td>24                 </td><td>car                </td><td>2                  </td></tr>\n",
       "\t<tr><th scope=row>8</th><td> 7                 </td><td>35                 </td><td>male               </td><td>3                  </td><td>rent               </td><td>little             </td><td>moderate           </td><td>6948               </td><td>36                 </td><td>car                </td><td>1                  </td></tr>\n",
       "\t<tr><th scope=row>10</th><td> 9                 </td><td>28                 </td><td>male               </td><td>3                  </td><td>own                </td><td>little             </td><td>moderate           </td><td>5234               </td><td>30                 </td><td>car                </td><td>2                  </td></tr>\n",
       "\t<tr><th scope=row>11</th><td>10                 </td><td>25                 </td><td>female             </td><td>2                  </td><td>rent               </td><td>little             </td><td>moderate           </td><td>1295               </td><td>12                 </td><td>car                </td><td>2                  </td></tr>\n",
       "</tbody>\n",
       "</table>\n"
      ],
      "text/latex": [
       "\\begin{tabular}{r|lllllllllll}\n",
       "  & X. & Age & Sex & Job & Housing & Saving.accounts & Checking.account & Credit.amount & Duration & Purpose & Credit.Risks\\\\\n",
       "\\hline\n",
       "\t2 &  1                  & 22                  & female              & 2                   & own                 & little              & moderate            & 5951                & 48                  & radio/TV            & 2                  \\\\\n",
       "\t4 &  3                  & 45                  & male                & 2                   & free                & little              & little              & 7882                & 42                  & furniture/equipment & 1                  \\\\\n",
       "\t5 &  4                  & 53                  & male                & 2                   & free                & little              & little              & 4870                & 24                  & car                 & 2                  \\\\\n",
       "\t8 &  7                  & 35                  & male                & 3                   & rent                & little              & moderate            & 6948                & 36                  & car                 & 1                  \\\\\n",
       "\t10 &  9                  & 28                  & male                & 3                   & own                 & little              & moderate            & 5234                & 30                  & car                 & 2                  \\\\\n",
       "\t11 & 10                  & 25                  & female              & 2                   & rent                & little              & moderate            & 1295                & 12                  & car                 & 2                  \\\\\n",
       "\\end{tabular}\n"
      ],
      "text/markdown": [
       "\n",
       "| <!--/--> | X. | Age | Sex | Job | Housing | Saving.accounts | Checking.account | Credit.amount | Duration | Purpose | Credit.Risks | \n",
       "|---|---|---|---|---|---|\n",
       "| 2 |  1                  | 22                  | female              | 2                   | own                 | little              | moderate            | 5951                | 48                  | radio/TV            | 2                   | \n",
       "| 4 |  3                  | 45                  | male                | 2                   | free                | little              | little              | 7882                | 42                  | furniture/equipment | 1                   | \n",
       "| 5 |  4                  | 53                  | male                | 2                   | free                | little              | little              | 4870                | 24                  | car                 | 2                   | \n",
       "| 8 |  7                  | 35                  | male                | 3                   | rent                | little              | moderate            | 6948                | 36                  | car                 | 1                   | \n",
       "| 10 |  9                  | 28                  | male                | 3                   | own                 | little              | moderate            | 5234                | 30                  | car                 | 2                   | \n",
       "| 11 | 10                  | 25                  | female              | 2                   | rent                | little              | moderate            | 1295                | 12                  | car                 | 2                   | \n",
       "\n",
       "\n"
      ],
      "text/plain": [
       "   X. Age Sex    Job Housing Saving.accounts Checking.account Credit.amount\n",
       "2   1 22  female 2   own     little          moderate         5951         \n",
       "4   3 45  male   2   free    little          little           7882         \n",
       "5   4 53  male   2   free    little          little           4870         \n",
       "8   7 35  male   3   rent    little          moderate         6948         \n",
       "10  9 28  male   3   own     little          moderate         5234         \n",
       "11 10 25  female 2   rent    little          moderate         1295         \n",
       "   Duration Purpose             Credit.Risks\n",
       "2  48       radio/TV            2           \n",
       "4  42       furniture/equipment 1           \n",
       "5  24       car                 2           \n",
       "8  36       car                 1           \n",
       "10 30       car                 2           \n",
       "11 12       car                 2           "
      ]
     },
     "metadata": {},
     "output_type": "display_data"
    }
   ],
   "source": [
    "head(data1)"
   ]
  },
  {
   "cell_type": "code",
   "execution_count": 5,
   "metadata": {
    "collapsed": false
   },
   "outputs": [
    {
     "data": {
      "text/html": [
       "<ol class=list-inline>\n",
       "\t<li>little</li>\n",
       "\t<li>moderate</li>\n",
       "\t<li>quite rich</li>\n",
       "\t<li>rich</li>\n",
       "</ol>\n"
      ],
      "text/latex": [
       "\\begin{enumerate*}\n",
       "\\item little\n",
       "\\item moderate\n",
       "\\item quite rich\n",
       "\\item rich\n",
       "\\end{enumerate*}\n"
      ],
      "text/markdown": [
       "1. little\n",
       "2. moderate\n",
       "3. quite rich\n",
       "4. rich\n",
       "\n",
       "\n"
      ],
      "text/plain": [
       "[1] little     moderate   quite rich rich      \n",
       "Levels: little moderate quite rich rich"
      ]
     },
     "metadata": {},
     "output_type": "display_data"
    },
    {
     "data": {
      "text/html": [
       "<ol class=list-inline>\n",
       "\t<li>moderate</li>\n",
       "\t<li>little</li>\n",
       "\t<li>rich</li>\n",
       "</ol>\n"
      ],
      "text/latex": [
       "\\begin{enumerate*}\n",
       "\\item moderate\n",
       "\\item little\n",
       "\\item rich\n",
       "\\end{enumerate*}\n"
      ],
      "text/markdown": [
       "1. moderate\n",
       "2. little\n",
       "3. rich\n",
       "\n",
       "\n"
      ],
      "text/plain": [
       "[1] moderate little   rich    \n",
       "Levels: little moderate rich"
      ]
     },
     "metadata": {},
     "output_type": "display_data"
    }
   ],
   "source": [
    "#Finding the unique values of Saving.accounts and Checking.account\n",
    "unique(data1$Saving.accounts)\n",
    "unique(data1$Checking.account)"
   ]
  },
  {
   "cell_type": "markdown",
   "metadata": {},
   "source": [
    "Modifying the columns as follows:\n",
    "\n",
    "little:1 moderate:2 quite rich:3 rich:4"
   ]
  },
  {
   "cell_type": "code",
   "execution_count": 6,
   "metadata": {
    "collapsed": false
   },
   "outputs": [],
   "source": [
    "#Modifying the values of the columns Saving.accounts and Checking.account \n",
    "size = nrow(data1)\n",
    "for(i in (1:size))\n",
    "    {\n",
    "    saving = data1$Saving.accounts[i]\n",
    "    checking = data1$Checking.account[i]\n",
    "    \n",
    "    if(saving == \"little\")\n",
    "    {\n",
    "        s = 1\n",
    "    }\n",
    "    else if(saving == \"moderate\")\n",
    "    {\n",
    "        s=2\n",
    "    }\n",
    "    else if(saving == \"quite rich\")\n",
    "    {\n",
    "        s=3\n",
    "    }\n",
    "    else if (saving == \"rich\")\n",
    "    {\n",
    "        s=4\n",
    "    }\n",
    "    else\n",
    "    {\n",
    "        s=0\n",
    "    }\n",
    "        \n",
    "    if(checking == \"little\")\n",
    "    {\n",
    "        c = 1\n",
    "    }\n",
    "    else if(checking == \"moderate\")\n",
    "    {\n",
    "        c=2\n",
    "    }\n",
    "    else if (checking == \"rich\")\n",
    "    {\n",
    "        c=4\n",
    "    }\n",
    "    else\n",
    "    {\n",
    "        c=0\n",
    "    }\n",
    "        \n",
    "        data1$account[i] = s+c\n",
    "}"
   ]
  },
  {
   "cell_type": "code",
   "execution_count": 7,
   "metadata": {
    "collapsed": false
   },
   "outputs": [
    {
     "data": {
      "text/html": [
       "<table>\n",
       "<thead><tr><th></th><th scope=col>X.</th><th scope=col>Age</th><th scope=col>Sex</th><th scope=col>Job</th><th scope=col>Housing</th><th scope=col>Saving.accounts</th><th scope=col>Checking.account</th><th scope=col>Credit.amount</th><th scope=col>Duration</th><th scope=col>Purpose</th><th scope=col>Credit.Risks</th><th scope=col>account</th></tr></thead>\n",
       "<tbody>\n",
       "\t<tr><th scope=row>2</th><td> 1                 </td><td>22                 </td><td>female             </td><td>2                  </td><td>own                </td><td>little             </td><td>moderate           </td><td>5951               </td><td>48                 </td><td>radio/TV           </td><td>2                  </td><td>3                  </td></tr>\n",
       "\t<tr><th scope=row>4</th><td> 3                 </td><td>45                 </td><td>male               </td><td>2                  </td><td>free               </td><td>little             </td><td>little             </td><td>7882               </td><td>42                 </td><td>furniture/equipment</td><td>1                  </td><td>2                  </td></tr>\n",
       "\t<tr><th scope=row>5</th><td> 4                 </td><td>53                 </td><td>male               </td><td>2                  </td><td>free               </td><td>little             </td><td>little             </td><td>4870               </td><td>24                 </td><td>car                </td><td>2                  </td><td>2                  </td></tr>\n",
       "\t<tr><th scope=row>8</th><td> 7                 </td><td>35                 </td><td>male               </td><td>3                  </td><td>rent               </td><td>little             </td><td>moderate           </td><td>6948               </td><td>36                 </td><td>car                </td><td>1                  </td><td>3                  </td></tr>\n",
       "\t<tr><th scope=row>10</th><td> 9                 </td><td>28                 </td><td>male               </td><td>3                  </td><td>own                </td><td>little             </td><td>moderate           </td><td>5234               </td><td>30                 </td><td>car                </td><td>2                  </td><td>3                  </td></tr>\n",
       "\t<tr><th scope=row>11</th><td>10                 </td><td>25                 </td><td>female             </td><td>2                  </td><td>rent               </td><td>little             </td><td>moderate           </td><td>1295               </td><td>12                 </td><td>car                </td><td>2                  </td><td>3                  </td></tr>\n",
       "</tbody>\n",
       "</table>\n"
      ],
      "text/latex": [
       "\\begin{tabular}{r|llllllllllll}\n",
       "  & X. & Age & Sex & Job & Housing & Saving.accounts & Checking.account & Credit.amount & Duration & Purpose & Credit.Risks & account\\\\\n",
       "\\hline\n",
       "\t2 &  1                  & 22                  & female              & 2                   & own                 & little              & moderate            & 5951                & 48                  & radio/TV            & 2                   & 3                  \\\\\n",
       "\t4 &  3                  & 45                  & male                & 2                   & free                & little              & little              & 7882                & 42                  & furniture/equipment & 1                   & 2                  \\\\\n",
       "\t5 &  4                  & 53                  & male                & 2                   & free                & little              & little              & 4870                & 24                  & car                 & 2                   & 2                  \\\\\n",
       "\t8 &  7                  & 35                  & male                & 3                   & rent                & little              & moderate            & 6948                & 36                  & car                 & 1                   & 3                  \\\\\n",
       "\t10 &  9                  & 28                  & male                & 3                   & own                 & little              & moderate            & 5234                & 30                  & car                 & 2                   & 3                  \\\\\n",
       "\t11 & 10                  & 25                  & female              & 2                   & rent                & little              & moderate            & 1295                & 12                  & car                 & 2                   & 3                  \\\\\n",
       "\\end{tabular}\n"
      ],
      "text/markdown": [
       "\n",
       "| <!--/--> | X. | Age | Sex | Job | Housing | Saving.accounts | Checking.account | Credit.amount | Duration | Purpose | Credit.Risks | account | \n",
       "|---|---|---|---|---|---|\n",
       "| 2 |  1                  | 22                  | female              | 2                   | own                 | little              | moderate            | 5951                | 48                  | radio/TV            | 2                   | 3                   | \n",
       "| 4 |  3                  | 45                  | male                | 2                   | free                | little              | little              | 7882                | 42                  | furniture/equipment | 1                   | 2                   | \n",
       "| 5 |  4                  | 53                  | male                | 2                   | free                | little              | little              | 4870                | 24                  | car                 | 2                   | 2                   | \n",
       "| 8 |  7                  | 35                  | male                | 3                   | rent                | little              | moderate            | 6948                | 36                  | car                 | 1                   | 3                   | \n",
       "| 10 |  9                  | 28                  | male                | 3                   | own                 | little              | moderate            | 5234                | 30                  | car                 | 2                   | 3                   | \n",
       "| 11 | 10                  | 25                  | female              | 2                   | rent                | little              | moderate            | 1295                | 12                  | car                 | 2                   | 3                   | \n",
       "\n",
       "\n"
      ],
      "text/plain": [
       "   X. Age Sex    Job Housing Saving.accounts Checking.account Credit.amount\n",
       "2   1 22  female 2   own     little          moderate         5951         \n",
       "4   3 45  male   2   free    little          little           7882         \n",
       "5   4 53  male   2   free    little          little           4870         \n",
       "8   7 35  male   3   rent    little          moderate         6948         \n",
       "10  9 28  male   3   own     little          moderate         5234         \n",
       "11 10 25  female 2   rent    little          moderate         1295         \n",
       "   Duration Purpose             Credit.Risks account\n",
       "2  48       radio/TV            2            3      \n",
       "4  42       furniture/equipment 1            2      \n",
       "5  24       car                 2            2      \n",
       "8  36       car                 1            3      \n",
       "10 30       car                 2            3      \n",
       "11 12       car                 2            3      "
      ]
     },
     "metadata": {},
     "output_type": "display_data"
    }
   ],
   "source": [
    "head(data1)"
   ]
  },
  {
   "cell_type": "code",
   "execution_count": 8,
   "metadata": {
    "collapsed": false
   },
   "outputs": [],
   "source": [
    "min_age = min(data1[,2])\n",
    "max_age = max(data1[,2])\n",
    "min_account = min(data1[,12])\n",
    "max_account = max(data1[,12])"
   ]
  },
  {
   "cell_type": "code",
   "execution_count": 11,
   "metadata": {
    "collapsed": true
   },
   "outputs": [],
   "source": [
    "#Normalizing the columns Age and account\n",
    "for( i in (1:nrow(data1)))\n",
    "    {\n",
    "    x = data1$Age[i]\n",
    "    y = data1$account[i]\n",
    "    \n",
    "    n_age = (x - min_age)/(max_age - min_age)\n",
    "    n_account = (y - min_account)/(max_account - min_account)\n",
    "    \n",
    "    data1$norm_age[i] = n_age\n",
    "    data1$norm_account[i] = n_account\n",
    "}"
   ]
  },
  {
   "cell_type": "code",
   "execution_count": 12,
   "metadata": {
    "collapsed": false
   },
   "outputs": [
    {
     "data": {
      "text/html": [
       "<table>\n",
       "<thead><tr><th></th><th scope=col>X.</th><th scope=col>Age</th><th scope=col>Sex</th><th scope=col>Job</th><th scope=col>Housing</th><th scope=col>Saving.accounts</th><th scope=col>Checking.account</th><th scope=col>Credit.amount</th><th scope=col>Duration</th><th scope=col>Purpose</th><th scope=col>Credit.Risks</th><th scope=col>account</th><th scope=col>norm_age</th><th scope=col>norm_account</th></tr></thead>\n",
       "<tbody>\n",
       "\t<tr><th scope=row>2</th><td> 1                 </td><td>22                 </td><td>female             </td><td>2                  </td><td>own                </td><td>little             </td><td>moderate           </td><td>5951               </td><td>48                 </td><td>radio/TV           </td><td>2                  </td><td>3                  </td><td>0.05357143         </td><td>0.1666667          </td></tr>\n",
       "\t<tr><th scope=row>4</th><td> 3                 </td><td>45                 </td><td>male               </td><td>2                  </td><td>free               </td><td>little             </td><td>little             </td><td>7882               </td><td>42                 </td><td>furniture/equipment</td><td>1                  </td><td>2                  </td><td>0.46428571         </td><td>0.0000000          </td></tr>\n",
       "\t<tr><th scope=row>5</th><td> 4                 </td><td>53                 </td><td>male               </td><td>2                  </td><td>free               </td><td>little             </td><td>little             </td><td>4870               </td><td>24                 </td><td>car                </td><td>2                  </td><td>2                  </td><td>0.60714286         </td><td>0.0000000          </td></tr>\n",
       "\t<tr><th scope=row>8</th><td> 7                 </td><td>35                 </td><td>male               </td><td>3                  </td><td>rent               </td><td>little             </td><td>moderate           </td><td>6948               </td><td>36                 </td><td>car                </td><td>1                  </td><td>3                  </td><td>0.28571429         </td><td>0.1666667          </td></tr>\n",
       "\t<tr><th scope=row>10</th><td> 9                 </td><td>28                 </td><td>male               </td><td>3                  </td><td>own                </td><td>little             </td><td>moderate           </td><td>5234               </td><td>30                 </td><td>car                </td><td>2                  </td><td>3                  </td><td>0.16071429         </td><td>0.1666667          </td></tr>\n",
       "\t<tr><th scope=row>11</th><td>10                 </td><td>25                 </td><td>female             </td><td>2                  </td><td>rent               </td><td>little             </td><td>moderate           </td><td>1295               </td><td>12                 </td><td>car                </td><td>2                  </td><td>3                  </td><td>0.10714286         </td><td>0.1666667          </td></tr>\n",
       "</tbody>\n",
       "</table>\n"
      ],
      "text/latex": [
       "\\begin{tabular}{r|llllllllllllll}\n",
       "  & X. & Age & Sex & Job & Housing & Saving.accounts & Checking.account & Credit.amount & Duration & Purpose & Credit.Risks & account & norm\\_age & norm\\_account\\\\\n",
       "\\hline\n",
       "\t2 &  1                  & 22                  & female              & 2                   & own                 & little              & moderate            & 5951                & 48                  & radio/TV            & 2                   & 3                   & 0.05357143          & 0.1666667          \\\\\n",
       "\t4 &  3                  & 45                  & male                & 2                   & free                & little              & little              & 7882                & 42                  & furniture/equipment & 1                   & 2                   & 0.46428571          & 0.0000000          \\\\\n",
       "\t5 &  4                  & 53                  & male                & 2                   & free                & little              & little              & 4870                & 24                  & car                 & 2                   & 2                   & 0.60714286          & 0.0000000          \\\\\n",
       "\t8 &  7                  & 35                  & male                & 3                   & rent                & little              & moderate            & 6948                & 36                  & car                 & 1                   & 3                   & 0.28571429          & 0.1666667          \\\\\n",
       "\t10 &  9                  & 28                  & male                & 3                   & own                 & little              & moderate            & 5234                & 30                  & car                 & 2                   & 3                   & 0.16071429          & 0.1666667          \\\\\n",
       "\t11 & 10                  & 25                  & female              & 2                   & rent                & little              & moderate            & 1295                & 12                  & car                 & 2                   & 3                   & 0.10714286          & 0.1666667          \\\\\n",
       "\\end{tabular}\n"
      ],
      "text/markdown": [
       "\n",
       "| <!--/--> | X. | Age | Sex | Job | Housing | Saving.accounts | Checking.account | Credit.amount | Duration | Purpose | Credit.Risks | account | norm_age | norm_account | \n",
       "|---|---|---|---|---|---|\n",
       "| 2 |  1                  | 22                  | female              | 2                   | own                 | little              | moderate            | 5951                | 48                  | radio/TV            | 2                   | 3                   | 0.05357143          | 0.1666667           | \n",
       "| 4 |  3                  | 45                  | male                | 2                   | free                | little              | little              | 7882                | 42                  | furniture/equipment | 1                   | 2                   | 0.46428571          | 0.0000000           | \n",
       "| 5 |  4                  | 53                  | male                | 2                   | free                | little              | little              | 4870                | 24                  | car                 | 2                   | 2                   | 0.60714286          | 0.0000000           | \n",
       "| 8 |  7                  | 35                  | male                | 3                   | rent                | little              | moderate            | 6948                | 36                  | car                 | 1                   | 3                   | 0.28571429          | 0.1666667           | \n",
       "| 10 |  9                  | 28                  | male                | 3                   | own                 | little              | moderate            | 5234                | 30                  | car                 | 2                   | 3                   | 0.16071429          | 0.1666667           | \n",
       "| 11 | 10                  | 25                  | female              | 2                   | rent                | little              | moderate            | 1295                | 12                  | car                 | 2                   | 3                   | 0.10714286          | 0.1666667           | \n",
       "\n",
       "\n"
      ],
      "text/plain": [
       "   X. Age Sex    Job Housing Saving.accounts Checking.account Credit.amount\n",
       "2   1 22  female 2   own     little          moderate         5951         \n",
       "4   3 45  male   2   free    little          little           7882         \n",
       "5   4 53  male   2   free    little          little           4870         \n",
       "8   7 35  male   3   rent    little          moderate         6948         \n",
       "10  9 28  male   3   own     little          moderate         5234         \n",
       "11 10 25  female 2   rent    little          moderate         1295         \n",
       "   Duration Purpose             Credit.Risks account norm_age   norm_account\n",
       "2  48       radio/TV            2            3       0.05357143 0.1666667   \n",
       "4  42       furniture/equipment 1            2       0.46428571 0.0000000   \n",
       "5  24       car                 2            2       0.60714286 0.0000000   \n",
       "8  36       car                 1            3       0.28571429 0.1666667   \n",
       "10 30       car                 2            3       0.16071429 0.1666667   \n",
       "11 12       car                 2            3       0.10714286 0.1666667   "
      ]
     },
     "metadata": {},
     "output_type": "display_data"
    }
   ],
   "source": [
    "head(data1)"
   ]
  },
  {
   "cell_type": "code",
   "execution_count": 26,
   "metadata": {
    "collapsed": false
   },
   "outputs": [
    {
     "data": {},
     "metadata": {},
     "output_type": "display_data"
    },
    {
     "data": {
      "image/png": "[encoded data removed]",
      "text/plain": [
       "plot without title"
      ]
     },
     "metadata": {},
     "output_type": "display_data"
    }
   ],
   "source": [
    "#Plotting the data according to Credit.Risks\n",
    "p1 = ggplot(data1, aes(x = Age, y = account)) \n",
    "p1 + geom_point(aes(color = Credit.Risks))"
   ]
  },
  {
   "cell_type": "code",
   "execution_count": 42,
   "metadata": {
    "collapsed": false
   },
   "outputs": [
    {
     "data": {
      "text/html": [
       "<ol class=list-inline>\n",
       "\t<li>20</li>\n",
       "\t<li>5</li>\n",
       "</ol>\n"
      ],
      "text/latex": [
       "\\begin{enumerate*}\n",
       "\\item 20\n",
       "\\item 5\n",
       "\\end{enumerate*}\n"
      ],
      "text/markdown": [
       "1. 20\n",
       "2. 5\n",
       "\n",
       "\n"
      ],
      "text/plain": [
       "[1] 20  5"
      ]
     },
     "metadata": {},
     "output_type": "display_data"
    },
    {
     "data": {
      "text/html": [
       "<ol class=list-inline>\n",
       "\t<li>'K-value'</li>\n",
       "\t<li>'sixty'</li>\n",
       "\t<li>'seventy'</li>\n",
       "\t<li>'eighty'</li>\n",
       "\t<li>'ninety'</li>\n",
       "</ol>\n"
      ],
      "text/latex": [
       "\\begin{enumerate*}\n",
       "\\item 'K-value'\n",
       "\\item 'sixty'\n",
       "\\item 'seventy'\n",
       "\\item 'eighty'\n",
       "\\item 'ninety'\n",
       "\\end{enumerate*}\n"
      ],
      "text/markdown": [
       "1. 'K-value'\n",
       "2. 'sixty'\n",
       "3. 'seventy'\n",
       "4. 'eighty'\n",
       "5. 'ninety'\n",
       "\n",
       "\n"
      ],
      "text/plain": [
       "[1] \"K-value\" \"sixty\"   \"seventy\" \"eighty\"  \"ninety\" "
      ]
     },
     "metadata": {},
     "output_type": "display_data"
    }
   ],
   "source": [
    "result = data.frame(matrix(ncol = 5, nrow = 20))\n",
    "dim(result)\n",
    "colnames(result) = c(\"K-value\",\"sixty\",\"seventy\",\"eighty\",\"ninety\")\n",
    "colnames(result)"
   ]
  },
  {
   "cell_type": "code",
   "execution_count": 37,
   "metadata": {
    "collapsed": false
   },
   "outputs": [],
   "source": [
    "set.seed(123)\n",
    "n1 = nrow(data1) \n",
    "\n",
    "sampling_rate = 0.8\n",
    "n2 =  n1 * (1 - sampling_rate)\n",
    "\n",
    "training = sample(1:n1, sampling_rate*n1, replace=FALSE)\n",
    "train = subset(data1[training,], select=c(norm_age,norm_account))\n",
    "\n",
    "testing = setdiff(1:n1,training)\n",
    "test = subset(data1[testing,], select=c(norm_age,norm_account))\n",
    "\n",
    "cl =  data1$Credit.Risks[training]\n",
    "true_labels = data1$Credit.Risks[testing]\n",
    "\n",
    "#Computing misclassification rate\n",
    "for(k in 1:20)\n",
    "    {\n",
    "    predicted_labels = knn(train,test,cl,k)\n",
    "    incorrect = sum(predicted_labels !=true_labels)\n",
    "    misclassification_rate = incorrect/n2\n",
    "    result$K[k] = k\n",
    "    result$eighty[k] = misclassification_rate\n",
    "}"
   ]
  },
  {
   "cell_type": "code",
   "execution_count": 40,
   "metadata": {
    "collapsed": false
   },
   "outputs": [],
   "source": [
    "#For sampling_rate = 0.6\n",
    "sampling_rate = 0.6\n",
    "n2 =  n1 * (1 - sampling_rate)\n",
    "\n",
    "training = sample(1:n1, sampling_rate*n1, replace=FALSE)\n",
    "train = subset(data1[training,], select=c(norm_age,norm_account))\n",
    "\n",
    "testing = setdiff(1:n1,training)\n",
    "test = subset(data1[testing,], select=c(norm_age,norm_account))\n",
    "\n",
    "cl =  data1$Credit.Risks[training]\n",
    "true_labels = data1$Credit.Risks[testing]\n",
    "\n",
    "#Computing misclassification rate\n",
    "for(k in 1:20)\n",
    "    {\n",
    "    predicted_labels = knn(train,test,cl,k)\n",
    "    incorrect = sum(predicted_labels !=true_labels)\n",
    "    misclassification_rate = incorrect/n2\n",
    "    result$sixty[k] = misclassification_rate\n",
    "}\n",
    "\n",
    "#For sampling_rate = 0.7\n",
    "sampling_rate = 0.7\n",
    "n2 =  n1 * (1 - sampling_rate)\n",
    "\n",
    "training = sample(1:n1, sampling_rate*n1, replace=FALSE)\n",
    "train = subset(data1[training,], select=c(norm_age,norm_account))\n",
    "\n",
    "testing = setdiff(1:n1,training)\n",
    "test = subset(data1[testing,], select=c(norm_age,norm_account))\n",
    "\n",
    "cl =  data1$Credit.Risks[training]\n",
    "true_labels = data1$Credit.Risks[testing]\n",
    "\n",
    "#Computing misclassification rate\n",
    "for(k in 1:20)\n",
    "    {\n",
    "    predicted_labels = knn(train,test,cl,k)\n",
    "    incorrect = sum(predicted_labels !=true_labels)\n",
    "    misclassification_rate = incorrect/n2\n",
    "    result$seventy[k] = misclassification_rate\n",
    "}\n",
    "\n",
    "#For sampling_rate = 0.9\n",
    "sampling_rate = 0.9\n",
    "n2 =  n1 * (1 - sampling_rate)\n",
    "\n",
    "training = sample(1:n1, sampling_rate*n1, replace=FALSE)\n",
    "train = subset(data1[training,], select=c(norm_age,norm_account))\n",
    "\n",
    "testing = setdiff(1:n1,training)\n",
    "test = subset(data1[testing,], select=c(norm_age,norm_account))\n",
    "\n",
    "cl =  data1$Credit.Risks[training]\n",
    "true_labels = data1$Credit.Risks[testing]\n",
    "\n",
    "#Computing misclassification rate\n",
    "for(k in 1:20)\n",
    "    {\n",
    "    predicted_labels = knn(train,test,cl,k)\n",
    "    incorrect = sum(predicted_labels !=true_labels)\n",
    "    misclassification_rate = incorrect/n2\n",
    "    result$ninety[k] = misclassification_rate\n",
    "}"
   ]
  },
  {
   "cell_type": "code",
   "execution_count": 41,
   "metadata": {
    "collapsed": false
   },
   "outputs": [
    {
     "data": {
      "text/html": [
       "<table>\n",
       "<thead><tr><th scope=col>K-value</th><th scope=col>sixty</th><th scope=col>seventy</th><th scope=col>eighty</th><th scope=col>ninety</th><th scope=col>K</th></tr></thead>\n",
       "<tbody>\n",
       "\t<tr><td>NA       </td><td>0.4358238</td><td>0.5044700</td><td>0.4789272</td><td>0.3639847</td><td> 1       </td></tr>\n",
       "\t<tr><td>NA       </td><td>0.4501916</td><td>0.5172414</td><td>0.4885057</td><td>0.3639847</td><td> 2       </td></tr>\n",
       "\t<tr><td>NA       </td><td>0.4454023</td><td>0.4789272</td><td>0.5076628</td><td>0.3256705</td><td> 3       </td></tr>\n",
       "\t<tr><td>NA       </td><td>0.4501916</td><td>0.4725415</td><td>0.4597701</td><td>0.3256705</td><td> 4       </td></tr>\n",
       "\t<tr><td>NA       </td><td>0.4454023</td><td>0.4597701</td><td>0.4501916</td><td>0.2873563</td><td> 5       </td></tr>\n",
       "\t<tr><td>NA       </td><td>0.4885057</td><td>0.4150702</td><td>0.4885057</td><td>0.2873563</td><td> 6       </td></tr>\n",
       "\t<tr><td>NA       </td><td>0.4549808</td><td>0.4342273</td><td>0.4789272</td><td>0.2873563</td><td> 7       </td></tr>\n",
       "\t<tr><td>NA       </td><td>0.4549808</td><td>0.4342273</td><td>0.4980843</td><td>0.3448276</td><td> 8       </td></tr>\n",
       "\t<tr><td>NA       </td><td>0.4501916</td><td>0.4342273</td><td>0.4501916</td><td>0.3448276</td><td> 9       </td></tr>\n",
       "\t<tr><td>NA       </td><td>0.4645594</td><td>0.4597701</td><td>0.5076628</td><td>0.3448276</td><td>10       </td></tr>\n",
       "\t<tr><td>NA       </td><td>0.4406130</td><td>0.4533844</td><td>0.5172414</td><td>0.3256705</td><td>11       </td></tr>\n",
       "\t<tr><td>NA       </td><td>0.4501916</td><td>0.4342273</td><td>0.4980843</td><td>0.3448276</td><td>12       </td></tr>\n",
       "\t<tr><td>NA       </td><td>0.4406130</td><td>0.4278416</td><td>0.5172414</td><td>0.3256705</td><td>13       </td></tr>\n",
       "\t<tr><td>NA       </td><td>0.4501916</td><td>0.4406130</td><td>0.4789272</td><td>0.2873563</td><td>14       </td></tr>\n",
       "\t<tr><td>NA       </td><td>0.4549808</td><td>0.4022989</td><td>0.4980843</td><td>0.3448276</td><td>15       </td></tr>\n",
       "\t<tr><td>NA       </td><td>0.4406130</td><td>0.4214559</td><td>0.4310345</td><td>0.2873563</td><td>16       </td></tr>\n",
       "\t<tr><td>NA       </td><td>0.4549808</td><td>0.3703704</td><td>0.4501916</td><td>0.3065134</td><td>17       </td></tr>\n",
       "\t<tr><td>NA       </td><td>0.4358238</td><td>0.3895275</td><td>0.3927203</td><td>0.2873563</td><td>18       </td></tr>\n",
       "\t<tr><td>NA       </td><td>0.4358238</td><td>0.4022989</td><td>0.4214559</td><td>0.2681992</td><td>19       </td></tr>\n",
       "\t<tr><td>NA       </td><td>0.4454023</td><td>0.4086845</td><td>0.4022989</td><td>0.3065134</td><td>20       </td></tr>\n",
       "</tbody>\n",
       "</table>\n"
      ],
      "text/latex": [
       "\\begin{tabular}{r|llllll}\n",
       " K-value & sixty & seventy & eighty & ninety & K\\\\\n",
       "\\hline\n",
       "\t NA        & 0.4358238 & 0.5044700 & 0.4789272 & 0.3639847 &  1       \\\\\n",
       "\t NA        & 0.4501916 & 0.5172414 & 0.4885057 & 0.3639847 &  2       \\\\\n",
       "\t NA        & 0.4454023 & 0.4789272 & 0.5076628 & 0.3256705 &  3       \\\\\n",
       "\t NA        & 0.4501916 & 0.4725415 & 0.4597701 & 0.3256705 &  4       \\\\\n",
       "\t NA        & 0.4454023 & 0.4597701 & 0.4501916 & 0.2873563 &  5       \\\\\n",
       "\t NA        & 0.4885057 & 0.4150702 & 0.4885057 & 0.2873563 &  6       \\\\\n",
       "\t NA        & 0.4549808 & 0.4342273 & 0.4789272 & 0.2873563 &  7       \\\\\n",
       "\t NA        & 0.4549808 & 0.4342273 & 0.4980843 & 0.3448276 &  8       \\\\\n",
       "\t NA        & 0.4501916 & 0.4342273 & 0.4501916 & 0.3448276 &  9       \\\\\n",
       "\t NA        & 0.4645594 & 0.4597701 & 0.5076628 & 0.3448276 & 10       \\\\\n",
       "\t NA        & 0.4406130 & 0.4533844 & 0.5172414 & 0.3256705 & 11       \\\\\n",
       "\t NA        & 0.4501916 & 0.4342273 & 0.4980843 & 0.3448276 & 12       \\\\\n",
       "\t NA        & 0.4406130 & 0.4278416 & 0.5172414 & 0.3256705 & 13       \\\\\n",
       "\t NA        & 0.4501916 & 0.4406130 & 0.4789272 & 0.2873563 & 14       \\\\\n",
       "\t NA        & 0.4549808 & 0.4022989 & 0.4980843 & 0.3448276 & 15       \\\\\n",
       "\t NA        & 0.4406130 & 0.4214559 & 0.4310345 & 0.2873563 & 16       \\\\\n",
       "\t NA        & 0.4549808 & 0.3703704 & 0.4501916 & 0.3065134 & 17       \\\\\n",
       "\t NA        & 0.4358238 & 0.3895275 & 0.3927203 & 0.2873563 & 18       \\\\\n",
       "\t NA        & 0.4358238 & 0.4022989 & 0.4214559 & 0.2681992 & 19       \\\\\n",
       "\t NA        & 0.4454023 & 0.4086845 & 0.4022989 & 0.3065134 & 20       \\\\\n",
       "\\end{tabular}\n"
      ],
      "text/markdown": [
       "\n",
       "K-value | sixty | seventy | eighty | ninety | K | \n",
       "|---|---|---|---|---|---|---|---|---|---|---|---|---|---|---|---|---|---|---|---|\n",
       "| NA        | 0.4358238 | 0.5044700 | 0.4789272 | 0.3639847 |  1        | \n",
       "| NA        | 0.4501916 | 0.5172414 | 0.4885057 | 0.3639847 |  2        | \n",
       "| NA        | 0.4454023 | 0.4789272 | 0.5076628 | 0.3256705 |  3        | \n",
       "| NA        | 0.4501916 | 0.4725415 | 0.4597701 | 0.3256705 |  4        | \n",
       "| NA        | 0.4454023 | 0.4597701 | 0.4501916 | 0.2873563 |  5        | \n",
       "| NA        | 0.4885057 | 0.4150702 | 0.4885057 | 0.2873563 |  6        | \n",
       "| NA        | 0.4549808 | 0.4342273 | 0.4789272 | 0.2873563 |  7        | \n",
       "| NA        | 0.4549808 | 0.4342273 | 0.4980843 | 0.3448276 |  8        | \n",
       "| NA        | 0.4501916 | 0.4342273 | 0.4501916 | 0.3448276 |  9        | \n",
       "| NA        | 0.4645594 | 0.4597701 | 0.5076628 | 0.3448276 | 10        | \n",
       "| NA        | 0.4406130 | 0.4533844 | 0.5172414 | 0.3256705 | 11        | \n",
       "| NA        | 0.4501916 | 0.4342273 | 0.4980843 | 0.3448276 | 12        | \n",
       "| NA        | 0.4406130 | 0.4278416 | 0.5172414 | 0.3256705 | 13        | \n",
       "| NA        | 0.4501916 | 0.4406130 | 0.4789272 | 0.2873563 | 14        | \n",
       "| NA        | 0.4549808 | 0.4022989 | 0.4980843 | 0.3448276 | 15        | \n",
       "| NA        | 0.4406130 | 0.4214559 | 0.4310345 | 0.2873563 | 16        | \n",
       "| NA        | 0.4549808 | 0.3703704 | 0.4501916 | 0.3065134 | 17        | \n",
       "| NA        | 0.4358238 | 0.3895275 | 0.3927203 | 0.2873563 | 18        | \n",
       "| NA        | 0.4358238 | 0.4022989 | 0.4214559 | 0.2681992 | 19        | \n",
       "| NA        | 0.4454023 | 0.4086845 | 0.4022989 | 0.3065134 | 20        | \n",
       "\n",
       "\n"
      ],
      "text/plain": [
       "   K-value sixty     seventy   eighty    ninety    K \n",
       "1  NA      0.4358238 0.5044700 0.4789272 0.3639847  1\n",
       "2  NA      0.4501916 0.5172414 0.4885057 0.3639847  2\n",
       "3  NA      0.4454023 0.4789272 0.5076628 0.3256705  3\n",
       "4  NA      0.4501916 0.4725415 0.4597701 0.3256705  4\n",
       "5  NA      0.4454023 0.4597701 0.4501916 0.2873563  5\n",
       "6  NA      0.4885057 0.4150702 0.4885057 0.2873563  6\n",
       "7  NA      0.4549808 0.4342273 0.4789272 0.2873563  7\n",
       "8  NA      0.4549808 0.4342273 0.4980843 0.3448276  8\n",
       "9  NA      0.4501916 0.4342273 0.4501916 0.3448276  9\n",
       "10 NA      0.4645594 0.4597701 0.5076628 0.3448276 10\n",
       "11 NA      0.4406130 0.4533844 0.5172414 0.3256705 11\n",
       "12 NA      0.4501916 0.4342273 0.4980843 0.3448276 12\n",
       "13 NA      0.4406130 0.4278416 0.5172414 0.3256705 13\n",
       "14 NA      0.4501916 0.4406130 0.4789272 0.2873563 14\n",
       "15 NA      0.4549808 0.4022989 0.4980843 0.3448276 15\n",
       "16 NA      0.4406130 0.4214559 0.4310345 0.2873563 16\n",
       "17 NA      0.4549808 0.3703704 0.4501916 0.3065134 17\n",
       "18 NA      0.4358238 0.3895275 0.3927203 0.2873563 18\n",
       "19 NA      0.4358238 0.4022989 0.4214559 0.2681992 19\n",
       "20 NA      0.4454023 0.4086845 0.4022989 0.3065134 20"
      ]
     },
     "metadata": {},
     "output_type": "display_data"
    }
   ],
   "source": [
    "result"
   ]
  },
  {
   "cell_type": "code",
   "execution_count": 33,
   "metadata": {
    "collapsed": false
   },
   "outputs": [
    {
     "data": {
      "text/html": [
       "<table>\n",
       "<thead><tr><th scope=col>K</th><th scope=col>sixty</th><th scope=col>seventy</th><th scope=col>eighty</th><th scope=col>ninety</th></tr></thead>\n",
       "<tbody>\n",
       "\t<tr><td> 1   </td><td>0.522</td><td>0.466</td><td>0.479</td><td>0.441</td></tr>\n",
       "\t<tr><td> 2   </td><td>0.450</td><td>0.447</td><td>0.489</td><td>0.460</td></tr>\n",
       "\t<tr><td> 3   </td><td>0.445</td><td>0.447</td><td>0.508</td><td>0.498</td></tr>\n",
       "\t<tr><td> 4   </td><td>0.455</td><td>0.466</td><td>0.460</td><td>0.517</td></tr>\n",
       "\t<tr><td> 5   </td><td>0.465</td><td>0.447</td><td>0.450</td><td>0.517</td></tr>\n",
       "\t<tr><td> 6   </td><td>0.455</td><td>0.485</td><td>0.489</td><td>0.460</td></tr>\n",
       "\t<tr><td> 7   </td><td>0.450</td><td>0.473</td><td>0.479</td><td>0.460</td></tr>\n",
       "\t<tr><td> 8   </td><td>0.465</td><td>0.466</td><td>0.498</td><td>0.517</td></tr>\n",
       "\t<tr><td> 9   </td><td>0.441</td><td>0.434</td><td>0.450</td><td>0.536</td></tr>\n",
       "\t<tr><td>10   </td><td>0.455</td><td>0.441</td><td>0.508</td><td>0.536</td></tr>\n",
       "\t<tr><td>11   </td><td>0.450</td><td>0.434</td><td>0.517</td><td>0.536</td></tr>\n",
       "\t<tr><td>12   </td><td>0.445</td><td>0.415</td><td>0.498</td><td>0.536</td></tr>\n",
       "\t<tr><td>13   </td><td>0.450</td><td>0.415</td><td>0.517</td><td>0.556</td></tr>\n",
       "\t<tr><td>14   </td><td>0.474</td><td>0.421</td><td>0.479</td><td>0.536</td></tr>\n",
       "\t<tr><td>15   </td><td>0.465</td><td>0.409</td><td>0.498</td><td>0.594</td></tr>\n",
       "\t<tr><td>16   </td><td>0.460</td><td>0.434</td><td>0.431</td><td>0.575</td></tr>\n",
       "\t<tr><td>17   </td><td>0.450</td><td>0.415</td><td>0.450</td><td>0.575</td></tr>\n",
       "\t<tr><td>18   </td><td>0.479</td><td>0.441</td><td>0.393</td><td>0.536</td></tr>\n",
       "\t<tr><td>19   </td><td>0.450</td><td>0.434</td><td>0.421</td><td>0.536</td></tr>\n",
       "\t<tr><td>20   </td><td>0.455</td><td>0.421</td><td>0.402</td><td>0.517</td></tr>\n",
       "</tbody>\n",
       "</table>\n"
      ],
      "text/latex": [
       "\\begin{tabular}{r|lllll}\n",
       " K & sixty & seventy & eighty & ninety\\\\\n",
       "\\hline\n",
       "\t  1    & 0.522 & 0.466 & 0.479 & 0.441\\\\\n",
       "\t  2    & 0.450 & 0.447 & 0.489 & 0.460\\\\\n",
       "\t  3    & 0.445 & 0.447 & 0.508 & 0.498\\\\\n",
       "\t  4    & 0.455 & 0.466 & 0.460 & 0.517\\\\\n",
       "\t  5    & 0.465 & 0.447 & 0.450 & 0.517\\\\\n",
       "\t  6    & 0.455 & 0.485 & 0.489 & 0.460\\\\\n",
       "\t  7    & 0.450 & 0.473 & 0.479 & 0.460\\\\\n",
       "\t  8    & 0.465 & 0.466 & 0.498 & 0.517\\\\\n",
       "\t  9    & 0.441 & 0.434 & 0.450 & 0.536\\\\\n",
       "\t 10    & 0.455 & 0.441 & 0.508 & 0.536\\\\\n",
       "\t 11    & 0.450 & 0.434 & 0.517 & 0.536\\\\\n",
       "\t 12    & 0.445 & 0.415 & 0.498 & 0.536\\\\\n",
       "\t 13    & 0.450 & 0.415 & 0.517 & 0.556\\\\\n",
       "\t 14    & 0.474 & 0.421 & 0.479 & 0.536\\\\\n",
       "\t 15    & 0.465 & 0.409 & 0.498 & 0.594\\\\\n",
       "\t 16    & 0.460 & 0.434 & 0.431 & 0.575\\\\\n",
       "\t 17    & 0.450 & 0.415 & 0.450 & 0.575\\\\\n",
       "\t 18    & 0.479 & 0.441 & 0.393 & 0.536\\\\\n",
       "\t 19    & 0.450 & 0.434 & 0.421 & 0.536\\\\\n",
       "\t 20    & 0.455 & 0.421 & 0.402 & 0.517\\\\\n",
       "\\end{tabular}\n"
      ],
      "text/markdown": [
       "\n",
       "K | sixty | seventy | eighty | ninety | \n",
       "|---|---|---|---|---|---|---|---|---|---|---|---|---|---|---|---|---|---|---|---|\n",
       "|  1    | 0.522 | 0.466 | 0.479 | 0.441 | \n",
       "|  2    | 0.450 | 0.447 | 0.489 | 0.460 | \n",
       "|  3    | 0.445 | 0.447 | 0.508 | 0.498 | \n",
       "|  4    | 0.455 | 0.466 | 0.460 | 0.517 | \n",
       "|  5    | 0.465 | 0.447 | 0.450 | 0.517 | \n",
       "|  6    | 0.455 | 0.485 | 0.489 | 0.460 | \n",
       "|  7    | 0.450 | 0.473 | 0.479 | 0.460 | \n",
       "|  8    | 0.465 | 0.466 | 0.498 | 0.517 | \n",
       "|  9    | 0.441 | 0.434 | 0.450 | 0.536 | \n",
       "| 10    | 0.455 | 0.441 | 0.508 | 0.536 | \n",
       "| 11    | 0.450 | 0.434 | 0.517 | 0.536 | \n",
       "| 12    | 0.445 | 0.415 | 0.498 | 0.536 | \n",
       "| 13    | 0.450 | 0.415 | 0.517 | 0.556 | \n",
       "| 14    | 0.474 | 0.421 | 0.479 | 0.536 | \n",
       "| 15    | 0.465 | 0.409 | 0.498 | 0.594 | \n",
       "| 16    | 0.460 | 0.434 | 0.431 | 0.575 | \n",
       "| 17    | 0.450 | 0.415 | 0.450 | 0.575 | \n",
       "| 18    | 0.479 | 0.441 | 0.393 | 0.536 | \n",
       "| 19    | 0.450 | 0.434 | 0.421 | 0.536 | \n",
       "| 20    | 0.455 | 0.421 | 0.402 | 0.517 | \n",
       "\n",
       "\n"
      ],
      "text/plain": [
       "   K  sixty seventy eighty ninety\n",
       "1   1 0.522 0.466   0.479  0.441 \n",
       "2   2 0.450 0.447   0.489  0.460 \n",
       "3   3 0.445 0.447   0.508  0.498 \n",
       "4   4 0.455 0.466   0.460  0.517 \n",
       "5   5 0.465 0.447   0.450  0.517 \n",
       "6   6 0.455 0.485   0.489  0.460 \n",
       "7   7 0.450 0.473   0.479  0.460 \n",
       "8   8 0.465 0.466   0.498  0.517 \n",
       "9   9 0.441 0.434   0.450  0.536 \n",
       "10 10 0.455 0.441   0.508  0.536 \n",
       "11 11 0.450 0.434   0.517  0.536 \n",
       "12 12 0.445 0.415   0.498  0.536 \n",
       "13 13 0.450 0.415   0.517  0.556 \n",
       "14 14 0.474 0.421   0.479  0.536 \n",
       "15 15 0.465 0.409   0.498  0.594 \n",
       "16 16 0.460 0.434   0.431  0.575 \n",
       "17 17 0.450 0.415   0.450  0.575 \n",
       "18 18 0.479 0.441   0.393  0.536 \n",
       "19 19 0.450 0.434   0.421  0.536 \n",
       "20 20 0.455 0.421   0.402  0.517 "
      ]
     },
     "metadata": {},
     "output_type": "display_data"
    }
   ],
   "source": [
    "#Rounding the values upto 3 decimals.\n",
    "res = round(result,3)\n",
    "res"
   ]
  }
 ],
 "metadata": {
  "anaconda-cloud": {},
  "kernelspec": {
   "display_name": "R",
   "language": "R",
   "name": "ir"
  },
  "language_info": {
   "codemirror_mode": "r",
   "file_extension": ".r",
   "mimetype": "text/x-r-source",
   "name": "R",
   "pygments_lexer": "r",
   "version": "3.3.2"
  }
 },
 "nbformat": 4,
 "nbformat_minor": 1
}

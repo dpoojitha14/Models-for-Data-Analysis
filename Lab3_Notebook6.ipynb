{
 "cells": [
  {
   "cell_type": "markdown",
   "metadata": {},
   "source": [
    "Activity 3: K-means clustering with Pew Data"
   ]
  },
  {
   "cell_type": "markdown",
   "metadata": {},
   "source": [
    "Referred from http://www.learnbymarketing.com/tutorials/k-means-clustering-in-r-example/"
   ]
  },
  {
   "cell_type": "code",
   "execution_count": null,
   "metadata": {
    "collapsed": true
   },
   "outputs": [],
   "source": [
    "install.packages(\"dplyr\")\n",
    "install.packages(\"methods\")\n",
    "install.packages(\"sqldf\")\n",
    "install.packages(\"ggplot2\")\n",
    "install.packages(\"class\")"
   ]
  },
  {
   "cell_type": "code",
   "execution_count": 16,
   "metadata": {
    "collapsed": false
   },
   "outputs": [],
   "source": [
    "library(\"dplyr\")\n",
    "library(\"methods\")\n",
    "library(\"sqldf\")\n",
    "library(\"ggplot2\")\n",
    "library(\"class\")"
   ]
  },
  {
   "cell_type": "code",
   "execution_count": 31,
   "metadata": {
    "collapsed": true
   },
   "outputs": [],
   "source": [
    "#Loading the data from the file CSV.csv\n",
    "data = read.csv(\"June 10-July 12, 2015 - Gaming, Jobs and Broadband - CSV.csv\")"
   ]
  },
  {
   "cell_type": "code",
   "execution_count": 32,
   "metadata": {
    "collapsed": false
   },
   "outputs": [
    {
     "data": {
      "text/html": [
       "<table>\n",
       "<thead><tr><th scope=col>psraid</th><th scope=col>sample</th><th scope=col>int_date</th><th scope=col>lang</th><th scope=col>usr</th><th scope=col>cregion</th><th scope=col>state</th><th scope=col>form</th><th scope=col>sex</th><th scope=col>q1</th><th scope=col>⋯</th><th scope=col>ideo</th><th scope=col>hisp</th><th scope=col>birth_hisp</th><th scope=col>race</th><th scope=col>inc</th><th scope=col>ql1a</th><th scope=col>qc1</th><th scope=col>zipcode</th><th scope=col>weight</th><th scope=col>standwt</th></tr></thead>\n",
       "<tbody>\n",
       "\t<tr><td>100006   </td><td>1        </td><td>61015    </td><td>1        </td><td>S        </td><td>3        </td><td>51       </td><td>1        </td><td>2        </td><td>1        </td><td>⋯        </td><td>1        </td><td>2        </td><td>NA       </td><td>1        </td><td>99       </td><td>NA       </td><td>NA       </td><td>20112    </td><td>2.258065 </td><td>0.7209406</td></tr>\n",
       "\t<tr><td>100009   </td><td>1        </td><td>61015    </td><td>1        </td><td>U        </td><td>3        </td><td>24       </td><td>2        </td><td>2        </td><td>2        </td><td>⋯        </td><td>3        </td><td>2        </td><td>NA       </td><td>2        </td><td> 6       </td><td>NA       </td><td>NA       </td><td>21239    </td><td>2.548387 </td><td>0.8136330</td></tr>\n",
       "\t<tr><td>100011   </td><td>1        </td><td>61015    </td><td>1        </td><td>S        </td><td>2        </td><td>39       </td><td>2        </td><td>2        </td><td>1        </td><td>⋯        </td><td>1        </td><td>2        </td><td>NA       </td><td>1        </td><td> 3       </td><td>NA       </td><td>NA       </td><td>44730    </td><td>1.806452 </td><td>0.5767525</td></tr>\n",
       "\t<tr><td>100039   </td><td>1        </td><td>61015    </td><td>1        </td><td>S        </td><td>3        </td><td>37       </td><td>2        </td><td>2        </td><td>1        </td><td>⋯        </td><td>2        </td><td>2        </td><td>NA       </td><td>1        </td><td> 6       </td><td>NA       </td><td>NA       </td><td>27028    </td><td>5.032258 </td><td>1.6066676</td></tr>\n",
       "\t<tr><td>100040   </td><td>1        </td><td>61015    </td><td>1        </td><td>U        </td><td>3        </td><td>21       </td><td>1        </td><td>2        </td><td>1        </td><td>⋯        </td><td>1        </td><td>2        </td><td>NA       </td><td>1        </td><td> 3       </td><td> 2       </td><td>NA       </td><td>40511    </td><td>7.161290 </td><td>2.2864116</td></tr>\n",
       "\t<tr><td>100043   </td><td>1        </td><td>62215    </td><td>1        </td><td>R        </td><td>2        </td><td>20       </td><td>1        </td><td>2        </td><td>1        </td><td>⋯        </td><td>3        </td><td>2        </td><td>NA       </td><td>1        </td><td> 8       </td><td>NA       </td><td>NA       </td><td>67601    </td><td>1.000000 </td><td>0.3192737</td></tr>\n",
       "</tbody>\n",
       "</table>\n"
      ],
      "text/latex": [
       "\\begin{tabular}{r|llllllllllllllllllllllllllllllllllllllllllllllllllllllllllllllllllllllllllllllllllllllllllllllllllllllllllllllllllllllllllllllllllllllllllll}\n",
       " psraid & sample & int\\_date & lang & usr & cregion & state & form & sex & q1 & ⋯ & ideo & hisp & birth\\_hisp & race & inc & ql1a & qc1 & zipcode & weight & standwt\\\\\n",
       "\\hline\n",
       "\t 100006    & 1         & 61015     & 1         & S         & 3         & 51        & 1         & 2         & 1         & ⋯         & 1         & 2         & NA        & 1         & 99        & NA        & NA        & 20112     & 2.258065  & 0.7209406\\\\\n",
       "\t 100009    & 1         & 61015     & 1         & U         & 3         & 24        & 2         & 2         & 2         & ⋯         & 3         & 2         & NA        & 2         &  6        & NA        & NA        & 21239     & 2.548387  & 0.8136330\\\\\n",
       "\t 100011    & 1         & 61015     & 1         & S         & 2         & 39        & 2         & 2         & 1         & ⋯         & 1         & 2         & NA        & 1         &  3        & NA        & NA        & 44730     & 1.806452  & 0.5767525\\\\\n",
       "\t 100039    & 1         & 61015     & 1         & S         & 3         & 37        & 2         & 2         & 1         & ⋯         & 2         & 2         & NA        & 1         &  6        & NA        & NA        & 27028     & 5.032258  & 1.6066676\\\\\n",
       "\t 100040    & 1         & 61015     & 1         & U         & 3         & 21        & 1         & 2         & 1         & ⋯         & 1         & 2         & NA        & 1         &  3        &  2        & NA        & 40511     & 7.161290  & 2.2864116\\\\\n",
       "\t 100043    & 1         & 62215     & 1         & R         & 2         & 20        & 1         & 2         & 1         & ⋯         & 3         & 2         & NA        & 1         &  8        & NA        & NA        & 67601     & 1.000000  & 0.3192737\\\\\n",
       "\\end{tabular}\n"
      ],
      "text/markdown": [
       "\n",
       "psraid | sample | int_date | lang | usr | cregion | state | form | sex | q1 | ⋯ | ideo | hisp | birth_hisp | race | inc | ql1a | qc1 | zipcode | weight | standwt | \n",
       "|---|---|---|---|---|---|\n",
       "| 100006    | 1         | 61015     | 1         | S         | 3         | 51        | 1         | 2         | 1         | ⋯         | 1         | 2         | NA        | 1         | 99        | NA        | NA        | 20112     | 2.258065  | 0.7209406 | \n",
       "| 100009    | 1         | 61015     | 1         | U         | 3         | 24        | 2         | 2         | 2         | ⋯         | 3         | 2         | NA        | 2         |  6        | NA        | NA        | 21239     | 2.548387  | 0.8136330 | \n",
       "| 100011    | 1         | 61015     | 1         | S         | 2         | 39        | 2         | 2         | 1         | ⋯         | 1         | 2         | NA        | 1         |  3        | NA        | NA        | 44730     | 1.806452  | 0.5767525 | \n",
       "| 100039    | 1         | 61015     | 1         | S         | 3         | 37        | 2         | 2         | 1         | ⋯         | 2         | 2         | NA        | 1         |  6        | NA        | NA        | 27028     | 5.032258  | 1.6066676 | \n",
       "| 100040    | 1         | 61015     | 1         | U         | 3         | 21        | 1         | 2         | 1         | ⋯         | 1         | 2         | NA        | 1         |  3        |  2        | NA        | 40511     | 7.161290  | 2.2864116 | \n",
       "| 100043    | 1         | 62215     | 1         | R         | 2         | 20        | 1         | 2         | 1         | ⋯         | 3         | 2         | NA        | 1         |  8        | NA        | NA        | 67601     | 1.000000  | 0.3192737 | \n",
       "\n",
       "\n"
      ],
      "text/plain": [
       "  psraid sample int_date lang usr cregion state form sex q1 ⋯ ideo hisp\n",
       "1 100006 1      61015    1    S   3       51    1    2   1  ⋯ 1    2   \n",
       "2 100009 1      61015    1    U   3       24    2    2   2  ⋯ 3    2   \n",
       "3 100011 1      61015    1    S   2       39    2    2   1  ⋯ 1    2   \n",
       "4 100039 1      61015    1    S   3       37    2    2   1  ⋯ 2    2   \n",
       "5 100040 1      61015    1    U   3       21    1    2   1  ⋯ 1    2   \n",
       "6 100043 1      62215    1    R   2       20    1    2   1  ⋯ 3    2   \n",
       "  birth_hisp race inc ql1a qc1 zipcode weight   standwt  \n",
       "1 NA         1    99  NA   NA  20112   2.258065 0.7209406\n",
       "2 NA         2     6  NA   NA  21239   2.548387 0.8136330\n",
       "3 NA         1     3  NA   NA  44730   1.806452 0.5767525\n",
       "4 NA         1     6  NA   NA  27028   5.032258 1.6066676\n",
       "5 NA         1     3   2   NA  40511   7.161290 2.2864116\n",
       "6 NA         1     8  NA   NA  67601   1.000000 0.3192737"
      ]
     },
     "metadata": {},
     "output_type": "display_data"
    },
    {
     "data": {
      "text/html": [
       "<ol class=list-inline>\n",
       "\t<li>'psraid'</li>\n",
       "\t<li>'sample'</li>\n",
       "\t<li>'int_date'</li>\n",
       "\t<li>'lang'</li>\n",
       "\t<li>'usr'</li>\n",
       "\t<li>'cregion'</li>\n",
       "\t<li>'state'</li>\n",
       "\t<li>'form'</li>\n",
       "\t<li>'sex'</li>\n",
       "\t<li>'q1'</li>\n",
       "\t<li>'q3'</li>\n",
       "\t<li>'eminuse'</li>\n",
       "\t<li>'intmob'</li>\n",
       "\t<li>'intfreq'</li>\n",
       "\t<li>'home4nw'</li>\n",
       "\t<li>'bbhome1'</li>\n",
       "\t<li>'bbhome2'</li>\n",
       "\t<li>'bbhome3a'</li>\n",
       "\t<li>'bbhome3b'</li>\n",
       "\t<li>'bbhome3c'</li>\n",
       "\t<li>'bbhome3d'</li>\n",
       "\t<li>'bbhome3e'</li>\n",
       "\t<li>'device1a'</li>\n",
       "\t<li>'smart1'</li>\n",
       "\t<li>'q4'</li>\n",
       "\t<li>'bbsmart1'</li>\n",
       "\t<li>'bbsmart2'</li>\n",
       "\t<li>'bbsmart3a'</li>\n",
       "\t<li>'bbsmart3b'</li>\n",
       "\t<li>'bbsmart3c'</li>\n",
       "\t<li>'bbsmart3d'</li>\n",
       "\t<li>'bbsmart3e'</li>\n",
       "\t<li>'bbsmart3f'</li>\n",
       "\t<li>'bbsmart4'</li>\n",
       "\t<li>'cable1'</li>\n",
       "\t<li>'cable2'</li>\n",
       "\t<li>'cable3a'</li>\n",
       "\t<li>'cable3b'</li>\n",
       "\t<li>'cable3c'</li>\n",
       "\t<li>'act19'</li>\n",
       "\t<li>'act87a'</li>\n",
       "\t<li>'act87b'</li>\n",
       "\t<li>'act137'</li>\n",
       "\t<li>'q5a'</li>\n",
       "\t<li>'q5b'</li>\n",
       "\t<li>'q5c'</li>\n",
       "\t<li>'q5d'</li>\n",
       "\t<li>'q5e'</li>\n",
       "\t<li>'q5f'</li>\n",
       "\t<li>'date1a'</li>\n",
       "\t<li>'date2a'</li>\n",
       "\t<li>'date3a'</li>\n",
       "\t<li>'date3b'</li>\n",
       "\t<li>'date4a'</li>\n",
       "\t<li>'date4b'</li>\n",
       "\t<li>'date4c'</li>\n",
       "\t<li>'date4d'</li>\n",
       "\t<li>'date4e'</li>\n",
       "\t<li>'date4f'</li>\n",
       "\t<li>'game1'</li>\n",
       "\t<li>'game2a'</li>\n",
       "\t<li>'game2b'</li>\n",
       "\t<li>'game2c'</li>\n",
       "\t<li>'game2d'</li>\n",
       "\t<li>'game2e'</li>\n",
       "\t<li>'game2f'</li>\n",
       "\t<li>'game3a'</li>\n",
       "\t<li>'game3b'</li>\n",
       "\t<li>'game4'</li>\n",
       "\t<li>'emplnw'</li>\n",
       "\t<li>'emptype1'</li>\n",
       "\t<li>'emptype2'</li>\n",
       "\t<li>'emptype3'</li>\n",
       "\t<li>'stud'</li>\n",
       "\t<li>'job1a'</li>\n",
       "\t<li>'job1b'</li>\n",
       "\t<li>'job1c'</li>\n",
       "\t<li>'job1d'</li>\n",
       "\t<li>'job1e'</li>\n",
       "\t<li>'job1f'</li>\n",
       "\t<li>'job2'</li>\n",
       "\t<li>'job3a'</li>\n",
       "\t<li>'job3b'</li>\n",
       "\t<li>'job3c'</li>\n",
       "\t<li>'job3d'</li>\n",
       "\t<li>'job3e'</li>\n",
       "\t<li>'job3f'</li>\n",
       "\t<li>'job3g'</li>\n",
       "\t<li>'job3h'</li>\n",
       "\t<li>'job4'</li>\n",
       "\t<li>'smjob1'</li>\n",
       "\t<li>'smjob2a'</li>\n",
       "\t<li>'smjob2b'</li>\n",
       "\t<li>'smjob2c'</li>\n",
       "\t<li>'smjob2d'</li>\n",
       "\t<li>'smjob2e'</li>\n",
       "\t<li>'smjob3'</li>\n",
       "\t<li>'smjob4a'</li>\n",
       "\t<li>'smjob4b'</li>\n",
       "\t<li>'smjob4c'</li>\n",
       "\t<li>'smjob4d'</li>\n",
       "\t<li>'smjob4e'</li>\n",
       "\t<li>'snsjob1a'</li>\n",
       "\t<li>'snsjob1b'</li>\n",
       "\t<li>'snsjob1c'</li>\n",
       "\t<li>'snsjob2a'</li>\n",
       "\t<li>'snsjob2b'</li>\n",
       "\t<li>'job5a'</li>\n",
       "\t<li>'job5b'</li>\n",
       "\t<li>'job5c'</li>\n",
       "\t<li>'job5d'</li>\n",
       "\t<li>'auto1a'</li>\n",
       "\t<li>'auto1b'</li>\n",
       "\t<li>'auto1c'</li>\n",
       "\t<li>'auto1d'</li>\n",
       "\t<li>'auto1e'</li>\n",
       "\t<li>'auto2'</li>\n",
       "\t<li>'auto3'</li>\n",
       "\t<li>'age'</li>\n",
       "\t<li>'marital'</li>\n",
       "\t<li>'hh1'</li>\n",
       "\t<li>'par'</li>\n",
       "\t<li>'kidage1'</li>\n",
       "\t<li>'kidage2'</li>\n",
       "\t<li>'kidage3'</li>\n",
       "\t<li>'educ2'</li>\n",
       "\t<li>'edinst'</li>\n",
       "\t<li>'disa'</li>\n",
       "\t<li>'party'</li>\n",
       "\t<li>'partyln'</li>\n",
       "\t<li>'ideo'</li>\n",
       "\t<li>'hisp'</li>\n",
       "\t<li>'birth_hisp'</li>\n",
       "\t<li>'race'</li>\n",
       "\t<li>'inc'</li>\n",
       "\t<li>'ql1a'</li>\n",
       "\t<li>'qc1'</li>\n",
       "\t<li>'zipcode'</li>\n",
       "\t<li>'weight'</li>\n",
       "\t<li>'standwt'</li>\n",
       "</ol>\n"
      ],
      "text/latex": [
       "\\begin{enumerate*}\n",
       "\\item 'psraid'\n",
       "\\item 'sample'\n",
       "\\item 'int\\_date'\n",
       "\\item 'lang'\n",
       "\\item 'usr'\n",
       "\\item 'cregion'\n",
       "\\item 'state'\n",
       "\\item 'form'\n",
       "\\item 'sex'\n",
       "\\item 'q1'\n",
       "\\item 'q3'\n",
       "\\item 'eminuse'\n",
       "\\item 'intmob'\n",
       "\\item 'intfreq'\n",
       "\\item 'home4nw'\n",
       "\\item 'bbhome1'\n",
       "\\item 'bbhome2'\n",
       "\\item 'bbhome3a'\n",
       "\\item 'bbhome3b'\n",
       "\\item 'bbhome3c'\n",
       "\\item 'bbhome3d'\n",
       "\\item 'bbhome3e'\n",
       "\\item 'device1a'\n",
       "\\item 'smart1'\n",
       "\\item 'q4'\n",
       "\\item 'bbsmart1'\n",
       "\\item 'bbsmart2'\n",
       "\\item 'bbsmart3a'\n",
       "\\item 'bbsmart3b'\n",
       "\\item 'bbsmart3c'\n",
       "\\item 'bbsmart3d'\n",
       "\\item 'bbsmart3e'\n",
       "\\item 'bbsmart3f'\n",
       "\\item 'bbsmart4'\n",
       "\\item 'cable1'\n",
       "\\item 'cable2'\n",
       "\\item 'cable3a'\n",
       "\\item 'cable3b'\n",
       "\\item 'cable3c'\n",
       "\\item 'act19'\n",
       "\\item 'act87a'\n",
       "\\item 'act87b'\n",
       "\\item 'act137'\n",
       "\\item 'q5a'\n",
       "\\item 'q5b'\n",
       "\\item 'q5c'\n",
       "\\item 'q5d'\n",
       "\\item 'q5e'\n",
       "\\item 'q5f'\n",
       "\\item 'date1a'\n",
       "\\item 'date2a'\n",
       "\\item 'date3a'\n",
       "\\item 'date3b'\n",
       "\\item 'date4a'\n",
       "\\item 'date4b'\n",
       "\\item 'date4c'\n",
       "\\item 'date4d'\n",
       "\\item 'date4e'\n",
       "\\item 'date4f'\n",
       "\\item 'game1'\n",
       "\\item 'game2a'\n",
       "\\item 'game2b'\n",
       "\\item 'game2c'\n",
       "\\item 'game2d'\n",
       "\\item 'game2e'\n",
       "\\item 'game2f'\n",
       "\\item 'game3a'\n",
       "\\item 'game3b'\n",
       "\\item 'game4'\n",
       "\\item 'emplnw'\n",
       "\\item 'emptype1'\n",
       "\\item 'emptype2'\n",
       "\\item 'emptype3'\n",
       "\\item 'stud'\n",
       "\\item 'job1a'\n",
       "\\item 'job1b'\n",
       "\\item 'job1c'\n",
       "\\item 'job1d'\n",
       "\\item 'job1e'\n",
       "\\item 'job1f'\n",
       "\\item 'job2'\n",
       "\\item 'job3a'\n",
       "\\item 'job3b'\n",
       "\\item 'job3c'\n",
       "\\item 'job3d'\n",
       "\\item 'job3e'\n",
       "\\item 'job3f'\n",
       "\\item 'job3g'\n",
       "\\item 'job3h'\n",
       "\\item 'job4'\n",
       "\\item 'smjob1'\n",
       "\\item 'smjob2a'\n",
       "\\item 'smjob2b'\n",
       "\\item 'smjob2c'\n",
       "\\item 'smjob2d'\n",
       "\\item 'smjob2e'\n",
       "\\item 'smjob3'\n",
       "\\item 'smjob4a'\n",
       "\\item 'smjob4b'\n",
       "\\item 'smjob4c'\n",
       "\\item 'smjob4d'\n",
       "\\item 'smjob4e'\n",
       "\\item 'snsjob1a'\n",
       "\\item 'snsjob1b'\n",
       "\\item 'snsjob1c'\n",
       "\\item 'snsjob2a'\n",
       "\\item 'snsjob2b'\n",
       "\\item 'job5a'\n",
       "\\item 'job5b'\n",
       "\\item 'job5c'\n",
       "\\item 'job5d'\n",
       "\\item 'auto1a'\n",
       "\\item 'auto1b'\n",
       "\\item 'auto1c'\n",
       "\\item 'auto1d'\n",
       "\\item 'auto1e'\n",
       "\\item 'auto2'\n",
       "\\item 'auto3'\n",
       "\\item 'age'\n",
       "\\item 'marital'\n",
       "\\item 'hh1'\n",
       "\\item 'par'\n",
       "\\item 'kidage1'\n",
       "\\item 'kidage2'\n",
       "\\item 'kidage3'\n",
       "\\item 'educ2'\n",
       "\\item 'edinst'\n",
       "\\item 'disa'\n",
       "\\item 'party'\n",
       "\\item 'partyln'\n",
       "\\item 'ideo'\n",
       "\\item 'hisp'\n",
       "\\item 'birth\\_hisp'\n",
       "\\item 'race'\n",
       "\\item 'inc'\n",
       "\\item 'ql1a'\n",
       "\\item 'qc1'\n",
       "\\item 'zipcode'\n",
       "\\item 'weight'\n",
       "\\item 'standwt'\n",
       "\\end{enumerate*}\n"
      ],
      "text/markdown": [
       "1. 'psraid'\n",
       "2. 'sample'\n",
       "3. 'int_date'\n",
       "4. 'lang'\n",
       "5. 'usr'\n",
       "6. 'cregion'\n",
       "7. 'state'\n",
       "8. 'form'\n",
       "9. 'sex'\n",
       "10. 'q1'\n",
       "11. 'q3'\n",
       "12. 'eminuse'\n",
       "13. 'intmob'\n",
       "14. 'intfreq'\n",
       "15. 'home4nw'\n",
       "16. 'bbhome1'\n",
       "17. 'bbhome2'\n",
       "18. 'bbhome3a'\n",
       "19. 'bbhome3b'\n",
       "20. 'bbhome3c'\n",
       "21. 'bbhome3d'\n",
       "22. 'bbhome3e'\n",
       "23. 'device1a'\n",
       "24. 'smart1'\n",
       "25. 'q4'\n",
       "26. 'bbsmart1'\n",
       "27. 'bbsmart2'\n",
       "28. 'bbsmart3a'\n",
       "29. 'bbsmart3b'\n",
       "30. 'bbsmart3c'\n",
       "31. 'bbsmart3d'\n",
       "32. 'bbsmart3e'\n",
       "33. 'bbsmart3f'\n",
       "34. 'bbsmart4'\n",
       "35. 'cable1'\n",
       "36. 'cable2'\n",
       "37. 'cable3a'\n",
       "38. 'cable3b'\n",
       "39. 'cable3c'\n",
       "40. 'act19'\n",
       "41. 'act87a'\n",
       "42. 'act87b'\n",
       "43. 'act137'\n",
       "44. 'q5a'\n",
       "45. 'q5b'\n",
       "46. 'q5c'\n",
       "47. 'q5d'\n",
       "48. 'q5e'\n",
       "49. 'q5f'\n",
       "50. 'date1a'\n",
       "51. 'date2a'\n",
       "52. 'date3a'\n",
       "53. 'date3b'\n",
       "54. 'date4a'\n",
       "55. 'date4b'\n",
       "56. 'date4c'\n",
       "57. 'date4d'\n",
       "58. 'date4e'\n",
       "59. 'date4f'\n",
       "60. 'game1'\n",
       "61. 'game2a'\n",
       "62. 'game2b'\n",
       "63. 'game2c'\n",
       "64. 'game2d'\n",
       "65. 'game2e'\n",
       "66. 'game2f'\n",
       "67. 'game3a'\n",
       "68. 'game3b'\n",
       "69. 'game4'\n",
       "70. 'emplnw'\n",
       "71. 'emptype1'\n",
       "72. 'emptype2'\n",
       "73. 'emptype3'\n",
       "74. 'stud'\n",
       "75. 'job1a'\n",
       "76. 'job1b'\n",
       "77. 'job1c'\n",
       "78. 'job1d'\n",
       "79. 'job1e'\n",
       "80. 'job1f'\n",
       "81. 'job2'\n",
       "82. 'job3a'\n",
       "83. 'job3b'\n",
       "84. 'job3c'\n",
       "85. 'job3d'\n",
       "86. 'job3e'\n",
       "87. 'job3f'\n",
       "88. 'job3g'\n",
       "89. 'job3h'\n",
       "90. 'job4'\n",
       "91. 'smjob1'\n",
       "92. 'smjob2a'\n",
       "93. 'smjob2b'\n",
       "94. 'smjob2c'\n",
       "95. 'smjob2d'\n",
       "96. 'smjob2e'\n",
       "97. 'smjob3'\n",
       "98. 'smjob4a'\n",
       "99. 'smjob4b'\n",
       "100. 'smjob4c'\n",
       "101. 'smjob4d'\n",
       "102. 'smjob4e'\n",
       "103. 'snsjob1a'\n",
       "104. 'snsjob1b'\n",
       "105. 'snsjob1c'\n",
       "106. 'snsjob2a'\n",
       "107. 'snsjob2b'\n",
       "108. 'job5a'\n",
       "109. 'job5b'\n",
       "110. 'job5c'\n",
       "111. 'job5d'\n",
       "112. 'auto1a'\n",
       "113. 'auto1b'\n",
       "114. 'auto1c'\n",
       "115. 'auto1d'\n",
       "116. 'auto1e'\n",
       "117. 'auto2'\n",
       "118. 'auto3'\n",
       "119. 'age'\n",
       "120. 'marital'\n",
       "121. 'hh1'\n",
       "122. 'par'\n",
       "123. 'kidage1'\n",
       "124. 'kidage2'\n",
       "125. 'kidage3'\n",
       "126. 'educ2'\n",
       "127. 'edinst'\n",
       "128. 'disa'\n",
       "129. 'party'\n",
       "130. 'partyln'\n",
       "131. 'ideo'\n",
       "132. 'hisp'\n",
       "133. 'birth_hisp'\n",
       "134. 'race'\n",
       "135. 'inc'\n",
       "136. 'ql1a'\n",
       "137. 'qc1'\n",
       "138. 'zipcode'\n",
       "139. 'weight'\n",
       "140. 'standwt'\n",
       "\n",
       "\n"
      ],
      "text/plain": [
       "  [1] \"psraid\"     \"sample\"     \"int_date\"   \"lang\"       \"usr\"       \n",
       "  [6] \"cregion\"    \"state\"      \"form\"       \"sex\"        \"q1\"        \n",
       " [11] \"q3\"         \"eminuse\"    \"intmob\"     \"intfreq\"    \"home4nw\"   \n",
       " [16] \"bbhome1\"    \"bbhome2\"    \"bbhome3a\"   \"bbhome3b\"   \"bbhome3c\"  \n",
       " [21] \"bbhome3d\"   \"bbhome3e\"   \"device1a\"   \"smart1\"     \"q4\"        \n",
       " [26] \"bbsmart1\"   \"bbsmart2\"   \"bbsmart3a\"  \"bbsmart3b\"  \"bbsmart3c\" \n",
       " [31] \"bbsmart3d\"  \"bbsmart3e\"  \"bbsmart3f\"  \"bbsmart4\"   \"cable1\"    \n",
       " [36] \"cable2\"     \"cable3a\"    \"cable3b\"    \"cable3c\"    \"act19\"     \n",
       " [41] \"act87a\"     \"act87b\"     \"act137\"     \"q5a\"        \"q5b\"       \n",
       " [46] \"q5c\"        \"q5d\"        \"q5e\"        \"q5f\"        \"date1a\"    \n",
       " [51] \"date2a\"     \"date3a\"     \"date3b\"     \"date4a\"     \"date4b\"    \n",
       " [56] \"date4c\"     \"date4d\"     \"date4e\"     \"date4f\"     \"game1\"     \n",
       " [61] \"game2a\"     \"game2b\"     \"game2c\"     \"game2d\"     \"game2e\"    \n",
       " [66] \"game2f\"     \"game3a\"     \"game3b\"     \"game4\"      \"emplnw\"    \n",
       " [71] \"emptype1\"   \"emptype2\"   \"emptype3\"   \"stud\"       \"job1a\"     \n",
       " [76] \"job1b\"      \"job1c\"      \"job1d\"      \"job1e\"      \"job1f\"     \n",
       " [81] \"job2\"       \"job3a\"      \"job3b\"      \"job3c\"      \"job3d\"     \n",
       " [86] \"job3e\"      \"job3f\"      \"job3g\"      \"job3h\"      \"job4\"      \n",
       " [91] \"smjob1\"     \"smjob2a\"    \"smjob2b\"    \"smjob2c\"    \"smjob2d\"   \n",
       " [96] \"smjob2e\"    \"smjob3\"     \"smjob4a\"    \"smjob4b\"    \"smjob4c\"   \n",
       "[101] \"smjob4d\"    \"smjob4e\"    \"snsjob1a\"   \"snsjob1b\"   \"snsjob1c\"  \n",
       "[106] \"snsjob2a\"   \"snsjob2b\"   \"job5a\"      \"job5b\"      \"job5c\"     \n",
       "[111] \"job5d\"      \"auto1a\"     \"auto1b\"     \"auto1c\"     \"auto1d\"    \n",
       "[116] \"auto1e\"     \"auto2\"      \"auto3\"      \"age\"        \"marital\"   \n",
       "[121] \"hh1\"        \"par\"        \"kidage1\"    \"kidage2\"    \"kidage3\"   \n",
       "[126] \"educ2\"      \"edinst\"     \"disa\"       \"party\"      \"partyln\"   \n",
       "[131] \"ideo\"       \"hisp\"       \"birth_hisp\" \"race\"       \"inc\"       \n",
       "[136] \"ql1a\"       \"qc1\"        \"zipcode\"    \"weight\"     \"standwt\"   "
      ]
     },
     "metadata": {},
     "output_type": "display_data"
    }
   ],
   "source": [
    "head(data)\n",
    "colnames(data)"
   ]
  },
  {
   "cell_type": "code",
   "execution_count": 33,
   "metadata": {
    "collapsed": false
   },
   "outputs": [
    {
     "data": {
      "text/html": [
       "<table>\n",
       "<thead><tr><th scope=col>sex</th><th scope=col>age</th><th scope=col>eminuse</th><th scope=col>intmob</th><th scope=col>educ2</th><th scope=col>inc</th></tr></thead>\n",
       "<tbody>\n",
       "\t<tr><td>2 </td><td>47</td><td>1 </td><td>1 </td><td>6 </td><td>99</td></tr>\n",
       "\t<tr><td>2 </td><td>63</td><td>1 </td><td>1 </td><td>4 </td><td> 6</td></tr>\n",
       "\t<tr><td>2 </td><td>86</td><td>2 </td><td>2 </td><td>1 </td><td> 3</td></tr>\n",
       "\t<tr><td>2 </td><td>40</td><td>1 </td><td>1 </td><td>5 </td><td> 6</td></tr>\n",
       "\t<tr><td>2 </td><td>65</td><td>1 </td><td>2 </td><td>4 </td><td> 3</td></tr>\n",
       "\t<tr><td>2 </td><td>69</td><td>1 </td><td>1 </td><td>6 </td><td> 8</td></tr>\n",
       "</tbody>\n",
       "</table>\n"
      ],
      "text/latex": [
       "\\begin{tabular}{r|llllll}\n",
       " sex & age & eminuse & intmob & educ2 & inc\\\\\n",
       "\\hline\n",
       "\t 2  & 47 & 1  & 1  & 6  & 99\\\\\n",
       "\t 2  & 63 & 1  & 1  & 4  &  6\\\\\n",
       "\t 2  & 86 & 2  & 2  & 1  &  3\\\\\n",
       "\t 2  & 40 & 1  & 1  & 5  &  6\\\\\n",
       "\t 2  & 65 & 1  & 2  & 4  &  3\\\\\n",
       "\t 2  & 69 & 1  & 1  & 6  &  8\\\\\n",
       "\\end{tabular}\n"
      ],
      "text/markdown": [
       "\n",
       "sex | age | eminuse | intmob | educ2 | inc | \n",
       "|---|---|---|---|---|---|\n",
       "| 2  | 47 | 1  | 1  | 6  | 99 | \n",
       "| 2  | 63 | 1  | 1  | 4  |  6 | \n",
       "| 2  | 86 | 2  | 2  | 1  |  3 | \n",
       "| 2  | 40 | 1  | 1  | 5  |  6 | \n",
       "| 2  | 65 | 1  | 2  | 4  |  3 | \n",
       "| 2  | 69 | 1  | 1  | 6  |  8 | \n",
       "\n",
       "\n"
      ],
      "text/plain": [
       "  sex age eminuse intmob educ2 inc\n",
       "1 2   47  1       1      6     99 \n",
       "2 2   63  1       1      4      6 \n",
       "3 2   86  2       2      1      3 \n",
       "4 2   40  1       1      5      6 \n",
       "5 2   65  1       2      4      3 \n",
       "6 2   69  1       1      6      8 "
      ]
     },
     "metadata": {},
     "output_type": "display_data"
    }
   ],
   "source": [
    "#Considering only the required columns\n",
    "new_data = data %>% select(sex,age,eminuse,intmob,educ2,inc)\n",
    "head(new_data)"
   ]
  },
  {
   "cell_type": "code",
   "execution_count": 34,
   "metadata": {
    "collapsed": false
   },
   "outputs": [
    {
     "data": {
      "text/html": [
       "<table>\n",
       "<thead><tr><th scope=col>sex</th><th scope=col>age</th><th scope=col>eminuse</th><th scope=col>intmob</th><th scope=col>educ2</th><th scope=col>inc</th></tr></thead>\n",
       "<tbody>\n",
       "\t<tr><td>2 </td><td>47</td><td>1 </td><td>1 </td><td>6 </td><td>0 </td></tr>\n",
       "\t<tr><td>2 </td><td>63</td><td>1 </td><td>1 </td><td>4 </td><td>6 </td></tr>\n",
       "\t<tr><td>2 </td><td>86</td><td>2 </td><td>2 </td><td>1 </td><td>3 </td></tr>\n",
       "\t<tr><td>2 </td><td>40</td><td>1 </td><td>1 </td><td>5 </td><td>6 </td></tr>\n",
       "\t<tr><td>2 </td><td>65</td><td>1 </td><td>2 </td><td>4 </td><td>3 </td></tr>\n",
       "\t<tr><td>2 </td><td>69</td><td>1 </td><td>1 </td><td>6 </td><td>8 </td></tr>\n",
       "</tbody>\n",
       "</table>\n"
      ],
      "text/latex": [
       "\\begin{tabular}{r|llllll}\n",
       " sex & age & eminuse & intmob & educ2 & inc\\\\\n",
       "\\hline\n",
       "\t 2  & 47 & 1  & 1  & 6  & 0 \\\\\n",
       "\t 2  & 63 & 1  & 1  & 4  & 6 \\\\\n",
       "\t 2  & 86 & 2  & 2  & 1  & 3 \\\\\n",
       "\t 2  & 40 & 1  & 1  & 5  & 6 \\\\\n",
       "\t 2  & 65 & 1  & 2  & 4  & 3 \\\\\n",
       "\t 2  & 69 & 1  & 1  & 6  & 8 \\\\\n",
       "\\end{tabular}\n"
      ],
      "text/markdown": [
       "\n",
       "sex | age | eminuse | intmob | educ2 | inc | \n",
       "|---|---|---|---|---|---|\n",
       "| 2  | 47 | 1  | 1  | 6  | 0  | \n",
       "| 2  | 63 | 1  | 1  | 4  | 6  | \n",
       "| 2  | 86 | 2  | 2  | 1  | 3  | \n",
       "| 2  | 40 | 1  | 1  | 5  | 6  | \n",
       "| 2  | 65 | 1  | 2  | 4  | 3  | \n",
       "| 2  | 69 | 1  | 1  | 6  | 8  | \n",
       "\n",
       "\n"
      ],
      "text/plain": [
       "  sex age eminuse intmob educ2 inc\n",
       "1 2   47  1       1      6     0  \n",
       "2 2   63  1       1      4     6  \n",
       "3 2   86  2       2      1     3  \n",
       "4 2   40  1       1      5     6  \n",
       "5 2   65  1       2      4     3  \n",
       "6 2   69  1       1      6     8  "
      ]
     },
     "metadata": {},
     "output_type": "display_data"
    }
   ],
   "source": [
    "#Modifying the values\n",
    "index1 = new_data$educ2 == 98\n",
    "index2 = new_data$educ2 == 99\n",
    "index3 = new_data$inc == 98\n",
    "index4 = new_data$inc == 99\n",
    "\n",
    "new_data$educ2[index1] = 0\n",
    "new_data$educ2[index2] = 0\n",
    "new_data$inc[index3] = 0\n",
    "new_data$inc[index4] = 0\n",
    "\n",
    "head(new_data)"
   ]
  },
  {
   "cell_type": "code",
   "execution_count": 35,
   "metadata": {
    "collapsed": false
   },
   "outputs": [],
   "source": [
    "#Normalizing the column of age\n",
    "min_age = min(new_data[,2])\n",
    "max_age = max(new_data[,2])\n",
    "\n",
    "for( i in (1:nrow(new_data)))\n",
    "    {\n",
    "    x = new_data$age[i]\n",
    "    \n",
    "    n_age = (x - min_age)/(max_age - min_age)\n",
    "    \n",
    "    new_data$norm_age[i] = n_age\n",
    "}"
   ]
  },
  {
   "cell_type": "code",
   "execution_count": 36,
   "metadata": {
    "collapsed": false
   },
   "outputs": [
    {
     "data": {
      "text/html": [
       "<table>\n",
       "<thead><tr><th scope=col>sex</th><th scope=col>age</th><th scope=col>eminuse</th><th scope=col>intmob</th><th scope=col>educ2</th><th scope=col>inc</th><th scope=col>norm_age</th></tr></thead>\n",
       "<tbody>\n",
       "\t<tr><td>2        </td><td>47       </td><td>1        </td><td>1        </td><td>6        </td><td>0        </td><td>0.3580247</td></tr>\n",
       "\t<tr><td>2        </td><td>63       </td><td>1        </td><td>1        </td><td>4        </td><td>6        </td><td>0.5555556</td></tr>\n",
       "\t<tr><td>2        </td><td>86       </td><td>2        </td><td>2        </td><td>1        </td><td>3        </td><td>0.8395062</td></tr>\n",
       "\t<tr><td>2        </td><td>40       </td><td>1        </td><td>1        </td><td>5        </td><td>6        </td><td>0.2716049</td></tr>\n",
       "\t<tr><td>2        </td><td>65       </td><td>1        </td><td>2        </td><td>4        </td><td>3        </td><td>0.5802469</td></tr>\n",
       "\t<tr><td>2        </td><td>69       </td><td>1        </td><td>1        </td><td>6        </td><td>8        </td><td>0.6296296</td></tr>\n",
       "</tbody>\n",
       "</table>\n"
      ],
      "text/latex": [
       "\\begin{tabular}{r|lllllll}\n",
       " sex & age & eminuse & intmob & educ2 & inc & norm\\_age\\\\\n",
       "\\hline\n",
       "\t 2         & 47        & 1         & 1         & 6         & 0         & 0.3580247\\\\\n",
       "\t 2         & 63        & 1         & 1         & 4         & 6         & 0.5555556\\\\\n",
       "\t 2         & 86        & 2         & 2         & 1         & 3         & 0.8395062\\\\\n",
       "\t 2         & 40        & 1         & 1         & 5         & 6         & 0.2716049\\\\\n",
       "\t 2         & 65        & 1         & 2         & 4         & 3         & 0.5802469\\\\\n",
       "\t 2         & 69        & 1         & 1         & 6         & 8         & 0.6296296\\\\\n",
       "\\end{tabular}\n"
      ],
      "text/markdown": [
       "\n",
       "sex | age | eminuse | intmob | educ2 | inc | norm_age | \n",
       "|---|---|---|---|---|---|\n",
       "| 2         | 47        | 1         | 1         | 6         | 0         | 0.3580247 | \n",
       "| 2         | 63        | 1         | 1         | 4         | 6         | 0.5555556 | \n",
       "| 2         | 86        | 2         | 2         | 1         | 3         | 0.8395062 | \n",
       "| 2         | 40        | 1         | 1         | 5         | 6         | 0.2716049 | \n",
       "| 2         | 65        | 1         | 2         | 4         | 3         | 0.5802469 | \n",
       "| 2         | 69        | 1         | 1         | 6         | 8         | 0.6296296 | \n",
       "\n",
       "\n"
      ],
      "text/plain": [
       "  sex age eminuse intmob educ2 inc norm_age \n",
       "1 2   47  1       1      6     0   0.3580247\n",
       "2 2   63  1       1      4     6   0.5555556\n",
       "3 2   86  2       2      1     3   0.8395062\n",
       "4 2   40  1       1      5     6   0.2716049\n",
       "5 2   65  1       2      4     3   0.5802469\n",
       "6 2   69  1       1      6     8   0.6296296"
      ]
     },
     "metadata": {},
     "output_type": "display_data"
    }
   ],
   "source": [
    "head(new_data)"
   ]
  },
  {
   "cell_type": "code",
   "execution_count": 37,
   "metadata": {
    "collapsed": true
   },
   "outputs": [],
   "source": [
    "list1 = new_data %>% select(sex,eminuse,intmob,educ2,inc,norm_age)\n",
    "set.seed(76964057)"
   ]
  },
  {
   "cell_type": "code",
   "execution_count": 38,
   "metadata": {
    "collapsed": false
   },
   "outputs": [
    {
     "data": {
      "text/html": [
       "<table>\n",
       "<thead><tr><th></th><th scope=col>sex</th><th scope=col>eminuse</th><th scope=col>intmob</th><th scope=col>educ2</th><th scope=col>inc</th><th scope=col>norm_age</th></tr></thead>\n",
       "<tbody>\n",
       "\t<tr><th scope=row>1</th><td>1.560060 </td><td>1.300300 </td><td>1.394895 </td><td>4.114114 </td><td>0.8738739</td><td>0.4515812</td></tr>\n",
       "\t<tr><th scope=row>2</th><td>1.475410 </td><td>1.196721 </td><td>1.304189 </td><td>3.617486 </td><td>4.4644809</td><td>0.4126695</td></tr>\n",
       "\t<tr><th scope=row>3</th><td>1.480916 </td><td>1.038168 </td><td>1.129771 </td><td>6.315522 </td><td>7.2099237</td><td>0.4011246</td></tr>\n",
       "</tbody>\n",
       "</table>\n"
      ],
      "text/latex": [
       "\\begin{tabular}{r|llllll}\n",
       "  & sex & eminuse & intmob & educ2 & inc & norm\\_age\\\\\n",
       "\\hline\n",
       "\t1 & 1.560060  & 1.300300  & 1.394895  & 4.114114  & 0.8738739 & 0.4515812\\\\\n",
       "\t2 & 1.475410  & 1.196721  & 1.304189  & 3.617486  & 4.4644809 & 0.4126695\\\\\n",
       "\t3 & 1.480916  & 1.038168  & 1.129771  & 6.315522  & 7.2099237 & 0.4011246\\\\\n",
       "\\end{tabular}\n"
      ],
      "text/markdown": [
       "\n",
       "| <!--/--> | sex | eminuse | intmob | educ2 | inc | norm_age | \n",
       "|---|---|---|\n",
       "| 1 | 1.560060  | 1.300300  | 1.394895  | 4.114114  | 0.8738739 | 0.4515812 | \n",
       "| 2 | 1.475410  | 1.196721  | 1.304189  | 3.617486  | 4.4644809 | 0.4126695 | \n",
       "| 3 | 1.480916  | 1.038168  | 1.129771  | 6.315522  | 7.2099237 | 0.4011246 | \n",
       "\n",
       "\n"
      ],
      "text/plain": [
       "  sex      eminuse  intmob   educ2    inc       norm_age \n",
       "1 1.560060 1.300300 1.394895 4.114114 0.8738739 0.4515812\n",
       "2 1.475410 1.196721 1.304189 3.617486 4.4644809 0.4126695\n",
       "3 1.480916 1.038168 1.129771 6.315522 7.2099237 0.4011246"
      ]
     },
     "metadata": {},
     "output_type": "display_data"
    },
    {
     "data": {
      "text/plain": [
       "\n",
       "  1   2   3 \n",
       "666 549 786 "
      ]
     },
     "metadata": {},
     "output_type": "display_data"
    }
   ],
   "source": [
    "#K means algorithm\n",
    "#For 3 clusters\n",
    "k <-kmeans(list1, centers=3) \n",
    "k$centers #Display&nbsp;cluster centers\n",
    "table(k$cluster)"
   ]
  },
  {
   "cell_type": "code",
   "execution_count": 39,
   "metadata": {
    "collapsed": false
   },
   "outputs": [
    {
     "data": {
      "text/html": [
       "<table>\n",
       "<thead><tr><th></th><th scope=col>sex</th><th scope=col>eminuse</th><th scope=col>intmob</th><th scope=col>educ2</th><th scope=col>inc</th><th scope=col>norm_age</th></tr></thead>\n",
       "<tbody>\n",
       "\t<tr><th scope=row>1</th><td>1.547718 </td><td>1.307054 </td><td>1.406639 </td><td>3.578838 </td><td>1.427386 </td><td>0.4250807</td></tr>\n",
       "\t<tr><th scope=row>2</th><td>1.474870 </td><td>1.145581 </td><td>1.239168 </td><td>3.859619 </td><td>5.686308 </td><td>0.3920021</td></tr>\n",
       "\t<tr><th scope=row>3</th><td>1.564286 </td><td>1.492857 </td><td>1.442857 </td><td>1.342857 </td><td>1.364286 </td><td>0.4268078</td></tr>\n",
       "\t<tr><th scope=row>4</th><td>1.472125 </td><td>1.027875 </td><td>1.130662 </td><td>6.897213 </td><td>7.428571 </td><td>0.4174947</td></tr>\n",
       "\t<tr><th scope=row>5</th><td>1.543860 </td><td>1.092105 </td><td>1.267544 </td><td>6.978070 </td><td>1.210526 </td><td>0.4917695</td></tr>\n",
       "</tbody>\n",
       "</table>\n"
      ],
      "text/latex": [
       "\\begin{tabular}{r|llllll}\n",
       "  & sex & eminuse & intmob & educ2 & inc & norm\\_age\\\\\n",
       "\\hline\n",
       "\t1 & 1.547718  & 1.307054  & 1.406639  & 3.578838  & 1.427386  & 0.4250807\\\\\n",
       "\t2 & 1.474870  & 1.145581  & 1.239168  & 3.859619  & 5.686308  & 0.3920021\\\\\n",
       "\t3 & 1.564286  & 1.492857  & 1.442857  & 1.342857  & 1.364286  & 0.4268078\\\\\n",
       "\t4 & 1.472125  & 1.027875  & 1.130662  & 6.897213  & 7.428571  & 0.4174947\\\\\n",
       "\t5 & 1.543860  & 1.092105  & 1.267544  & 6.978070  & 1.210526  & 0.4917695\\\\\n",
       "\\end{tabular}\n"
      ],
      "text/markdown": [
       "\n",
       "| <!--/--> | sex | eminuse | intmob | educ2 | inc | norm_age | \n",
       "|---|---|---|---|---|\n",
       "| 1 | 1.547718  | 1.307054  | 1.406639  | 3.578838  | 1.427386  | 0.4250807 | \n",
       "| 2 | 1.474870  | 1.145581  | 1.239168  | 3.859619  | 5.686308  | 0.3920021 | \n",
       "| 3 | 1.564286  | 1.492857  | 1.442857  | 1.342857  | 1.364286  | 0.4268078 | \n",
       "| 4 | 1.472125  | 1.027875  | 1.130662  | 6.897213  | 7.428571  | 0.4174947 | \n",
       "| 5 | 1.543860  | 1.092105  | 1.267544  | 6.978070  | 1.210526  | 0.4917695 | \n",
       "\n",
       "\n"
      ],
      "text/plain": [
       "  sex      eminuse  intmob   educ2    inc      norm_age \n",
       "1 1.547718 1.307054 1.406639 3.578838 1.427386 0.4250807\n",
       "2 1.474870 1.145581 1.239168 3.859619 5.686308 0.3920021\n",
       "3 1.564286 1.492857 1.442857 1.342857 1.364286 0.4268078\n",
       "4 1.472125 1.027875 1.130662 6.897213 7.428571 0.4174947\n",
       "5 1.543860 1.092105 1.267544 6.978070 1.210526 0.4917695"
      ]
     },
     "metadata": {},
     "output_type": "display_data"
    },
    {
     "data": {
      "text/plain": [
       "\n",
       "  1   2   3   4   5 \n",
       "482 577 140 574 228 "
      ]
     },
     "metadata": {},
     "output_type": "display_data"
    }
   ],
   "source": [
    "#For 5 clusters\n",
    "k <-kmeans(list1, centers=5) \n",
    "k$centers #Display&nbsp;cluster centers\n",
    "table(k$cluster)"
   ]
  },
  {
   "cell_type": "code",
   "execution_count": 40,
   "metadata": {
    "collapsed": false
   },
   "outputs": [
    {
     "data": {
      "text/html": [
       "<table>\n",
       "<thead><tr><th></th><th scope=col>sex</th><th scope=col>eminuse</th><th scope=col>intmob</th><th scope=col>educ2</th><th scope=col>inc</th><th scope=col>norm_age</th></tr></thead>\n",
       "<tbody>\n",
       "\t<tr><th scope=row>1</th><td>1.472441 </td><td>1.027559 </td><td>1.129921 </td><td>7.007874 </td><td>7.4704724</td><td>0.4161806</td></tr>\n",
       "\t<tr><th scope=row>2</th><td>1.587156 </td><td>1.087156 </td><td>1.247706 </td><td>6.522936 </td><td>0.5412844</td><td>0.4875411</td></tr>\n",
       "\t<tr><th scope=row>3</th><td>1.523077 </td><td>1.056410 </td><td>1.241026 </td><td>6.338462 </td><td>4.0666667</td><td>0.4023425</td></tr>\n",
       "\t<tr><th scope=row>4</th><td>1.425150 </td><td>1.116766 </td><td>1.167665 </td><td>3.796407 </td><td>7.0299401</td><td>0.3868559</td></tr>\n",
       "\t<tr><th scope=row>5</th><td>1.549884 </td><td>1.394432 </td><td>1.443155 </td><td>2.770302 </td><td>0.9582367</td><td>0.4306379</td></tr>\n",
       "\t<tr><th scope=row>6</th><td>1.517460 </td><td>1.269841 </td><td>1.374603 </td><td>3.206349 </td><td>3.9142857</td><td>0.4178326</td></tr>\n",
       "</tbody>\n",
       "</table>\n"
      ],
      "text/latex": [
       "\\begin{tabular}{r|llllll}\n",
       "  & sex & eminuse & intmob & educ2 & inc & norm\\_age\\\\\n",
       "\\hline\n",
       "\t1 & 1.472441  & 1.027559  & 1.129921  & 7.007874  & 7.4704724 & 0.4161806\\\\\n",
       "\t2 & 1.587156  & 1.087156  & 1.247706  & 6.522936  & 0.5412844 & 0.4875411\\\\\n",
       "\t3 & 1.523077  & 1.056410  & 1.241026  & 6.338462  & 4.0666667 & 0.4023425\\\\\n",
       "\t4 & 1.425150  & 1.116766  & 1.167665  & 3.796407  & 7.0299401 & 0.3868559\\\\\n",
       "\t5 & 1.549884  & 1.394432  & 1.443155  & 2.770302  & 0.9582367 & 0.4306379\\\\\n",
       "\t6 & 1.517460  & 1.269841  & 1.374603  & 3.206349  & 3.9142857 & 0.4178326\\\\\n",
       "\\end{tabular}\n"
      ],
      "text/markdown": [
       "\n",
       "| <!--/--> | sex | eminuse | intmob | educ2 | inc | norm_age | \n",
       "|---|---|---|---|---|---|\n",
       "| 1 | 1.472441  | 1.027559  | 1.129921  | 7.007874  | 7.4704724 | 0.4161806 | \n",
       "| 2 | 1.587156  | 1.087156  | 1.247706  | 6.522936  | 0.5412844 | 0.4875411 | \n",
       "| 3 | 1.523077  | 1.056410  | 1.241026  | 6.338462  | 4.0666667 | 0.4023425 | \n",
       "| 4 | 1.425150  | 1.116766  | 1.167665  | 3.796407  | 7.0299401 | 0.3868559 | \n",
       "| 5 | 1.549884  | 1.394432  | 1.443155  | 2.770302  | 0.9582367 | 0.4306379 | \n",
       "| 6 | 1.517460  | 1.269841  | 1.374603  | 3.206349  | 3.9142857 | 0.4178326 | \n",
       "\n",
       "\n"
      ],
      "text/plain": [
       "  sex      eminuse  intmob   educ2    inc       norm_age \n",
       "1 1.472441 1.027559 1.129921 7.007874 7.4704724 0.4161806\n",
       "2 1.587156 1.087156 1.247706 6.522936 0.5412844 0.4875411\n",
       "3 1.523077 1.056410 1.241026 6.338462 4.0666667 0.4023425\n",
       "4 1.425150 1.116766 1.167665 3.796407 7.0299401 0.3868559\n",
       "5 1.549884 1.394432 1.443155 2.770302 0.9582367 0.4306379\n",
       "6 1.517460 1.269841 1.374603 3.206349 3.9142857 0.4178326"
      ]
     },
     "metadata": {},
     "output_type": "display_data"
    },
    {
     "data": {
      "text/plain": [
       "\n",
       "  1   2   3   4   5   6 \n",
       "508 218 195 334 431 315 "
      ]
     },
     "metadata": {},
     "output_type": "display_data"
    }
   ],
   "source": [
    "#For 6 clusters\n",
    "k <-kmeans(list1, centers=6) \n",
    "k$centers #Display&nbsp;cluster centers\n",
    "table(k$cluster)"
   ]
  },
  {
   "cell_type": "code",
   "execution_count": 41,
   "metadata": {
    "collapsed": false
   },
   "outputs": [
    {
     "data": {
      "text/html": [
       "<table>\n",
       "<thead><tr><th></th><th scope=col>sex</th><th scope=col>eminuse</th><th scope=col>intmob</th><th scope=col>educ2</th><th scope=col>inc</th><th scope=col>norm_age</th></tr></thead>\n",
       "<tbody>\n",
       "\t<tr><th scope=row>1</th><td>1.438776 </td><td>1.336735 </td><td>1.316327 </td><td>2.714286 </td><td>2.2653061</td><td>0.3885739</td></tr>\n",
       "\t<tr><th scope=row>2</th><td>1.609756 </td><td>1.397213 </td><td>1.463415 </td><td>2.742160 </td><td>0.4355401</td><td>0.4420355</td></tr>\n",
       "\t<tr><th scope=row>3</th><td>1.513761 </td><td>1.541284 </td><td>1.688073 </td><td>2.990826 </td><td>3.7431193</td><td>0.5177257</td></tr>\n",
       "\t<tr><th scope=row>4</th><td>1.430052 </td><td>1.093264 </td><td>1.129534 </td><td>3.777202 </td><td>7.7772021</td><td>0.3614150</td></tr>\n",
       "\t<tr><th scope=row>5</th><td>1.390625 </td><td>1.182292 </td><td>1.302083 </td><td>3.375000 </td><td>5.5416667</td><td>0.4166024</td></tr>\n",
       "\t<tr><th scope=row>6</th><td>1.460784 </td><td>1.022876 </td><td>1.098039 </td><td>7.287582 </td><td>8.2189542</td><td>0.4290729</td></tr>\n",
       "\t<tr><th scope=row>7</th><td>1.584699 </td><td>1.049180 </td><td>1.207650 </td><td>4.972678 </td><td>3.4480874</td><td>0.3710450</td></tr>\n",
       "\t<tr><th scope=row>8</th><td>1.525000 </td><td>1.034375 </td><td>1.171875 </td><td>6.534375 </td><td>5.9062500</td><td>0.3998843</td></tr>\n",
       "\t<tr><th scope=row>9</th><td>1.562791 </td><td>1.088372 </td><td>1.260465 </td><td>6.683721 </td><td>0.5674419</td><td>0.4941143</td></tr>\n",
       "</tbody>\n",
       "</table>\n"
      ],
      "text/latex": [
       "\\begin{tabular}{r|llllll}\n",
       "  & sex & eminuse & intmob & educ2 & inc & norm\\_age\\\\\n",
       "\\hline\n",
       "\t1 & 1.438776  & 1.336735  & 1.316327  & 2.714286  & 2.2653061 & 0.3885739\\\\\n",
       "\t2 & 1.609756  & 1.397213  & 1.463415  & 2.742160  & 0.4355401 & 0.4420355\\\\\n",
       "\t3 & 1.513761  & 1.541284  & 1.688073  & 2.990826  & 3.7431193 & 0.5177257\\\\\n",
       "\t4 & 1.430052  & 1.093264  & 1.129534  & 3.777202  & 7.7772021 & 0.3614150\\\\\n",
       "\t5 & 1.390625  & 1.182292  & 1.302083  & 3.375000  & 5.5416667 & 0.4166024\\\\\n",
       "\t6 & 1.460784  & 1.022876  & 1.098039  & 7.287582  & 8.2189542 & 0.4290729\\\\\n",
       "\t7 & 1.584699  & 1.049180  & 1.207650  & 4.972678  & 3.4480874 & 0.3710450\\\\\n",
       "\t8 & 1.525000  & 1.034375  & 1.171875  & 6.534375  & 5.9062500 & 0.3998843\\\\\n",
       "\t9 & 1.562791  & 1.088372  & 1.260465  & 6.683721  & 0.5674419 & 0.4941143\\\\\n",
       "\\end{tabular}\n"
      ],
      "text/markdown": [
       "\n",
       "| <!--/--> | sex | eminuse | intmob | educ2 | inc | norm_age | \n",
       "|---|---|---|---|---|---|---|---|---|\n",
       "| 1 | 1.438776  | 1.336735  | 1.316327  | 2.714286  | 2.2653061 | 0.3885739 | \n",
       "| 2 | 1.609756  | 1.397213  | 1.463415  | 2.742160  | 0.4355401 | 0.4420355 | \n",
       "| 3 | 1.513761  | 1.541284  | 1.688073  | 2.990826  | 3.7431193 | 0.5177257 | \n",
       "| 4 | 1.430052  | 1.093264  | 1.129534  | 3.777202  | 7.7772021 | 0.3614150 | \n",
       "| 5 | 1.390625  | 1.182292  | 1.302083  | 3.375000  | 5.5416667 | 0.4166024 | \n",
       "| 6 | 1.460784  | 1.022876  | 1.098039  | 7.287582  | 8.2189542 | 0.4290729 | \n",
       "| 7 | 1.584699  | 1.049180  | 1.207650  | 4.972678  | 3.4480874 | 0.3710450 | \n",
       "| 8 | 1.525000  | 1.034375  | 1.171875  | 6.534375  | 5.9062500 | 0.3998843 | \n",
       "| 9 | 1.562791  | 1.088372  | 1.260465  | 6.683721  | 0.5674419 | 0.4941143 | \n",
       "\n",
       "\n"
      ],
      "text/plain": [
       "  sex      eminuse  intmob   educ2    inc       norm_age \n",
       "1 1.438776 1.336735 1.316327 2.714286 2.2653061 0.3885739\n",
       "2 1.609756 1.397213 1.463415 2.742160 0.4355401 0.4420355\n",
       "3 1.513761 1.541284 1.688073 2.990826 3.7431193 0.5177257\n",
       "4 1.430052 1.093264 1.129534 3.777202 7.7772021 0.3614150\n",
       "5 1.390625 1.182292 1.302083 3.375000 5.5416667 0.4166024\n",
       "6 1.460784 1.022876 1.098039 7.287582 8.2189542 0.4290729\n",
       "7 1.584699 1.049180 1.207650 4.972678 3.4480874 0.3710450\n",
       "8 1.525000 1.034375 1.171875 6.534375 5.9062500 0.3998843\n",
       "9 1.562791 1.088372 1.260465 6.683721 0.5674419 0.4941143"
      ]
     },
     "metadata": {},
     "output_type": "display_data"
    },
    {
     "data": {
      "text/plain": [
       "\n",
       "  1   2   3   4   5   6   7   8   9 \n",
       "196 287 109 193 192 306 183 320 215 "
      ]
     },
     "metadata": {},
     "output_type": "display_data"
    }
   ],
   "source": [
    "#For 9 clusters\n",
    "k <-kmeans(list1, centers=9) \n",
    "k$centers #Display&nbsp;cluster centers\n",
    "table(k$cluster)"
   ]
  },
  {
   "cell_type": "code",
   "execution_count": 42,
   "metadata": {
    "collapsed": false
   },
   "outputs": [
    {
     "data": {
      "text/plain": [
       "\n",
       "   1    2    9 \n",
       "1483  516    2 "
      ]
     },
     "metadata": {},
     "output_type": "display_data"
    }
   ],
   "source": [
    "sort(table(new_data$intmob), decreasing=TRUE)"
   ]
  },
  {
   "cell_type": "code",
   "execution_count": 43,
   "metadata": {
    "collapsed": false
   },
   "outputs": [
    {
     "data": {
      "text/plain": [
       "\n",
       "   1    2    9 \n",
       "1670  330    1 "
      ]
     },
     "metadata": {},
     "output_type": "display_data"
    }
   ],
   "source": [
    "sort(table(new_data$eminuse), decreasing=TRUE)"
   ]
  },
  {
   "cell_type": "code",
   "execution_count": 44,
   "metadata": {
    "collapsed": false
   },
   "outputs": [
    {
     "data": {
      "text/plain": [
       "\n",
       "  3   6   8   4   5   2   1   7   0 \n",
       "483 410 377 340 183  86  66  36  20 "
      ]
     },
     "metadata": {},
     "output_type": "display_data"
    }
   ],
   "source": [
    "sort(table(new_data$educ2), decreasing=TRUE)"
   ]
  },
  {
   "cell_type": "code",
   "execution_count": 46,
   "metadata": {
    "collapsed": false
   },
   "outputs": [
    {
     "data": {
      "image/png": "[encoded data removed]",
      "text/plain": [
       "Plot with title “Total Within SS by Various K”"
      ]
     },
     "metadata": {},
     "output_type": "display_data"
    }
   ],
   "source": [
    "#Plotting\n",
    "\n",
    "avg.totw.ss <-integer(length(rng)) \n",
    "for(v in (2:20)){ \n",
    " v.totw.ss <-integer(100) \n",
    " for(i in 1:100){\n",
    " k.temp <-kmeans(list1,centers=v) \n",
    " v.totw.ss[i] <-k.temp$tot.withinss\n",
    " }\n",
    " avg.totw.ss[v-1] <-mean(v.totw.ss) \n",
    "}\n",
    "plot(rng,avg.totw.ss,type=\"b\", main=\"Total Within SS by Various K\", ylab=\"Average Total Within Sum of Squares\", xlab=\"Value of K\")"
   ]
  },
  {
   "cell_type": "markdown",
   "metadata": {},
   "source": [
    "Interpretation:"
   ]
  },
  {
   "cell_type": "markdown",
   "metadata": {},
   "source": [
    "Around, k=6, there is no significant gain. Therefore, we can choose 6 clusters."
   ]
  }
 ],
 "metadata": {
  "kernelspec": {
   "display_name": "R",
   "language": "R",
   "name": "ir"
  },
  "language_info": {
   "codemirror_mode": "r",
   "file_extension": ".r",
   "mimetype": "text/x-r-source",
   "name": "R",
   "pygments_lexer": "r",
   "version": "3.3.2"
  }
 },
 "nbformat": 4,
 "nbformat_minor": 1
}
